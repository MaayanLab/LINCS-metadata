{
 "cells": [
  {
   "cell_type": "markdown",
   "metadata": {},
   "source": [
    "# C2M2 Assessment\n",
    "\n",
    "We perform a file-centric FAIR Assessment on all files defined in a [C2M2 datapackage](https://docs.nih-cfde.org/en/latest/c2m2/draft-C2M2_specification/) according to the [C2M2 Rubric](https://fairshake.cloud/rubric/36); descriptions of each metric and how we assess them are provided below, along with the actual code to perform the assesssment."
   ]
  },
  {
   "cell_type": "code",
   "execution_count": 1,
   "metadata": {},
   "outputs": [],
   "source": [
    "import os\n",
    "import re\n",
    "import glob\n",
    "import requests\n",
    "import numpy as np\n",
    "import pandas as pd\n",
    "import itertools as it\n",
    "from matplotlib import pyplot as plt\n",
    "\n",
    "from textwrap import dedent\n",
    "from IPython.display import display, Markdown"
   ]
  },
  {
   "cell_type": "code",
   "execution_count": 2,
   "metadata": {},
   "outputs": [],
   "source": [
    "def one_and_only(it):\n",
    "  ''' Select one and only item from an iterable, otherwise throw an exception.\n",
    "  '''\n",
    "  it = iter(it)\n",
    "  ret = next(it)\n",
    "  try:\n",
    "    next(it)\n",
    "    raise Exception('Expected one')\n",
    "  except StopIteration:\n",
    "    return ret\n",
    "\n",
    "def deep_find(root, file):\n",
    "  ''' Helper for finding a filename in a potentially deep directory\n",
    "  '''\n",
    "  return set(glob.glob(os.path.join(root, '**', file), recursive=True))\n",
    "\n",
    "def fetch_cache(url, filename, cachedir='.cached'):\n",
    "  ''' Download a {file} from a {url} if it hasn't already been downloaded, storing it in {cachedir}.\n",
    "  '''\n",
    "  import os, urllib.request\n",
    "  os.makedirs(cachedir, exist_ok=True)\n",
    "  if not os.path.exists(os.path.join(cachedir, filename)):\n",
    "    urllib.request.urlretrieve(url, filename=os.path.join(cachedir, filename))\n",
    "  return os.path.join(cachedir, filename)\n",
    "\n",
    "def url_join(*args):\n",
    "  ''' Join urls by slashes, not worrying about duplicated trailing slashes\n",
    "  '''\n",
    "  return '/'.join([arg.rstrip('/') for arg in args[:-1]]+[args[-1]])\n",
    "\n",
    "def filter_empty(val):\n",
    "  ''' Attempt to catch some actual null values that aren't really null.\n",
    "  '''\n",
    "  return [\n",
    "    v\n",
    "    for v in val\n",
    "    if v is not None and (\n",
    "      type(v) != str or v.strip().lower() not in {\n",
    "        '-',\n",
    "        '-666',\n",
    "        '',\n",
    "        'empty',\n",
    "        'n/a',\n",
    "        'na',\n",
    "        'nan',\n",
    "        'nil',\n",
    "        'none',\n",
    "        'not defined',\n",
    "        'null',\n",
    "        'undef',\n",
    "        'undefined',\n",
    "      }\n",
    "    )\n",
    "  ]\n"
   ]
  },
  {
   "cell_type": "markdown",
   "metadata": {},
   "source": [
    "## Step 1. Load DERIVA compatible client from URL or datapackage\n",
    "\n",
    "Given a datapackage, access it through DERIVA-compatible client. This client package <https://github.com/nih-cfde/deriva-datapackage> permits accessing offline datapackages in the same way that the online DERIVA client operates, thus the assessment can be performed online or offline."
   ]
  },
  {
   "cell_type": "code",
   "execution_count": 3,
   "metadata": {},
   "outputs": [],
   "source": [
    "import zipfile\n",
    "import tempfile\n",
    "file = \"/Users/maayanlab/Documents/CFDE/04-2022/Archive.zip\"\n",
    "basename, ext = os.path.splitext(file)\n",
    "assert ext == '.zip', 'Expected .zip file'\n",
    "directory = tempfile.mkdtemp()\n",
    "with zipfile.ZipFile(file, 'r') as z:\n",
    "  z.extractall(directory)"
   ]
  },
  {
   "cell_type": "code",
   "execution_count": 4,
   "metadata": {},
   "outputs": [
    {
     "name": "stderr",
     "output_type": "stream",
     "text": [
      "/Users/maayanlab/opt/anaconda3/envs/cfde_venv/lib/python3.8/site-packages/tabulator/stream.py:420: UserWarning: Not supported option(s) \"delimiter, doublequote, lineterminator, quotechar, skipinitialspace\" for scheme \"file\" and format \"tsv\"\n",
      "  warnings.warn(message, UserWarning)\n"
     ]
    }
   ],
   "source": [
    "from deriva_datapackage import create_offline_client\n",
    "\n",
    "# sometimes zip files zip the leading directory, which may be named anything,\n",
    "#  deep_find lets us locate the datapackage wherever it is.\n",
    "CFDE = create_offline_client(\n",
    "    *(\n",
    "      deep_find(directory, 'C2M2_datapackage.json')\n",
    "      | deep_find(directory, 'datapackage.json')\n",
    "    ),\n",
    "    cachedir=directory,\n",
    ")"
   ]
  },
  {
   "cell_type": "markdown",
   "metadata": {},
   "source": [
    "## Step 2. Compute and report global metrics about the datapackage\n",
    "\n",
    "### Table 1: Entity Counts"
   ]
  },
  {
   "cell_type": "code",
   "execution_count": 5,
   "metadata": {},
   "outputs": [
    {
     "data": {
      "text/html": [
       "<div>\n",
       "<style scoped>\n",
       "    .dataframe tbody tr th:only-of-type {\n",
       "        vertical-align: middle;\n",
       "    }\n",
       "\n",
       "    .dataframe tbody tr th {\n",
       "        vertical-align: top;\n",
       "    }\n",
       "\n",
       "    .dataframe thead th {\n",
       "        text-align: right;\n",
       "    }\n",
       "</style>\n",
       "<table border=\"1\" class=\"dataframe\">\n",
       "  <thead>\n",
       "    <tr style=\"text-align: right;\">\n",
       "      <th></th>\n",
       "      <th>Entity Counts</th>\n",
       "    </tr>\n",
       "  </thead>\n",
       "  <tbody>\n",
       "    <tr>\n",
       "      <th>analysis_type</th>\n",
       "      <td>0</td>\n",
       "    </tr>\n",
       "    <tr>\n",
       "      <th>anatomy</th>\n",
       "      <td>60</td>\n",
       "    </tr>\n",
       "    <tr>\n",
       "      <th>assay_type</th>\n",
       "      <td>28</td>\n",
       "    </tr>\n",
       "    <tr>\n",
       "      <th>biosample</th>\n",
       "      <td>1466838</td>\n",
       "    </tr>\n",
       "    <tr>\n",
       "      <th>biosample_disease</th>\n",
       "      <td>1211130</td>\n",
       "    </tr>\n",
       "    <tr>\n",
       "      <th>biosample_from_subject</th>\n",
       "      <td>1466838</td>\n",
       "    </tr>\n",
       "    <tr>\n",
       "      <th>biosample_gene</th>\n",
       "      <td>361735</td>\n",
       "    </tr>\n",
       "    <tr>\n",
       "      <th>biosample_in_collection</th>\n",
       "      <td>12002</td>\n",
       "    </tr>\n",
       "    <tr>\n",
       "      <th>biosample_substance</th>\n",
       "      <td>860327</td>\n",
       "    </tr>\n",
       "    <tr>\n",
       "      <th>collection</th>\n",
       "      <td>409</td>\n",
       "    </tr>\n",
       "    <tr>\n",
       "      <th>collection_anatomy</th>\n",
       "      <td>179</td>\n",
       "    </tr>\n",
       "    <tr>\n",
       "      <th>collection_compound</th>\n",
       "      <td>0</td>\n",
       "    </tr>\n",
       "    <tr>\n",
       "      <th>collection_defined_by_project</th>\n",
       "      <td>409</td>\n",
       "    </tr>\n",
       "    <tr>\n",
       "      <th>collection_disease</th>\n",
       "      <td>0</td>\n",
       "    </tr>\n",
       "    <tr>\n",
       "      <th>collection_gene</th>\n",
       "      <td>0</td>\n",
       "    </tr>\n",
       "    <tr>\n",
       "      <th>collection_in_collection</th>\n",
       "      <td>0</td>\n",
       "    </tr>\n",
       "    <tr>\n",
       "      <th>collection_phenotype</th>\n",
       "      <td>0</td>\n",
       "    </tr>\n",
       "    <tr>\n",
       "      <th>collection_protein</th>\n",
       "      <td>0</td>\n",
       "    </tr>\n",
       "    <tr>\n",
       "      <th>collection_substance</th>\n",
       "      <td>0</td>\n",
       "    </tr>\n",
       "    <tr>\n",
       "      <th>collection_taxonomy</th>\n",
       "      <td>409</td>\n",
       "    </tr>\n",
       "    <tr>\n",
       "      <th>compound</th>\n",
       "      <td>29315</td>\n",
       "    </tr>\n",
       "    <tr>\n",
       "      <th>data_type</th>\n",
       "      <td>8</td>\n",
       "    </tr>\n",
       "    <tr>\n",
       "      <th>dcc</th>\n",
       "      <td>1</td>\n",
       "    </tr>\n",
       "    <tr>\n",
       "      <th>disease</th>\n",
       "      <td>29</td>\n",
       "    </tr>\n",
       "    <tr>\n",
       "      <th>file</th>\n",
       "      <td>1454802</td>\n",
       "    </tr>\n",
       "    <tr>\n",
       "      <th>file_describes_biosample</th>\n",
       "      <td>1467271</td>\n",
       "    </tr>\n",
       "    <tr>\n",
       "      <th>file_describes_collection</th>\n",
       "      <td>0</td>\n",
       "    </tr>\n",
       "    <tr>\n",
       "      <th>file_describes_subject</th>\n",
       "      <td>1466540</td>\n",
       "    </tr>\n",
       "    <tr>\n",
       "      <th>file_format</th>\n",
       "      <td>4</td>\n",
       "    </tr>\n",
       "    <tr>\n",
       "      <th>file_in_collection</th>\n",
       "      <td>465</td>\n",
       "    </tr>\n",
       "    <tr>\n",
       "      <th>gene</th>\n",
       "      <td>7443</td>\n",
       "    </tr>\n",
       "    <tr>\n",
       "      <th>id_namespace</th>\n",
       "      <td>1</td>\n",
       "    </tr>\n",
       "    <tr>\n",
       "      <th>ncbi_taxonomy</th>\n",
       "      <td>1</td>\n",
       "    </tr>\n",
       "    <tr>\n",
       "      <th>phenotype</th>\n",
       "      <td>0</td>\n",
       "    </tr>\n",
       "    <tr>\n",
       "      <th>phenotype_disease</th>\n",
       "      <td>0</td>\n",
       "    </tr>\n",
       "    <tr>\n",
       "      <th>phenotype_gene</th>\n",
       "      <td>0</td>\n",
       "    </tr>\n",
       "    <tr>\n",
       "      <th>project</th>\n",
       "      <td>16</td>\n",
       "    </tr>\n",
       "    <tr>\n",
       "      <th>project_in_project</th>\n",
       "      <td>15</td>\n",
       "    </tr>\n",
       "    <tr>\n",
       "      <th>protein</th>\n",
       "      <td>0</td>\n",
       "    </tr>\n",
       "    <tr>\n",
       "      <th>protein_gene</th>\n",
       "      <td>0</td>\n",
       "    </tr>\n",
       "    <tr>\n",
       "      <th>subject</th>\n",
       "      <td>1966</td>\n",
       "    </tr>\n",
       "    <tr>\n",
       "      <th>subject_disease</th>\n",
       "      <td>197</td>\n",
       "    </tr>\n",
       "    <tr>\n",
       "      <th>subject_in_collection</th>\n",
       "      <td>12002</td>\n",
       "    </tr>\n",
       "    <tr>\n",
       "      <th>subject_phenotype</th>\n",
       "      <td>0</td>\n",
       "    </tr>\n",
       "    <tr>\n",
       "      <th>subject_race</th>\n",
       "      <td>0</td>\n",
       "    </tr>\n",
       "    <tr>\n",
       "      <th>subject_role_taxonomy</th>\n",
       "      <td>1966</td>\n",
       "    </tr>\n",
       "    <tr>\n",
       "      <th>subject_substance</th>\n",
       "      <td>0</td>\n",
       "    </tr>\n",
       "    <tr>\n",
       "      <th>substance</th>\n",
       "      <td>29437</td>\n",
       "    </tr>\n",
       "  </tbody>\n",
       "</table>\n",
       "</div>"
      ],
      "text/plain": [
       "                               Entity Counts\n",
       "analysis_type                              0\n",
       "anatomy                                   60\n",
       "assay_type                                28\n",
       "biosample                            1466838\n",
       "biosample_disease                    1211130\n",
       "biosample_from_subject               1466838\n",
       "biosample_gene                        361735\n",
       "biosample_in_collection                12002\n",
       "biosample_substance                   860327\n",
       "collection                               409\n",
       "collection_anatomy                       179\n",
       "collection_compound                        0\n",
       "collection_defined_by_project            409\n",
       "collection_disease                         0\n",
       "collection_gene                            0\n",
       "collection_in_collection                   0\n",
       "collection_phenotype                       0\n",
       "collection_protein                         0\n",
       "collection_substance                       0\n",
       "collection_taxonomy                      409\n",
       "compound                               29315\n",
       "data_type                                  8\n",
       "dcc                                        1\n",
       "disease                                   29\n",
       "file                                 1454802\n",
       "file_describes_biosample             1467271\n",
       "file_describes_collection                  0\n",
       "file_describes_subject               1466540\n",
       "file_format                                4\n",
       "file_in_collection                       465\n",
       "gene                                    7443\n",
       "id_namespace                               1\n",
       "ncbi_taxonomy                              1\n",
       "phenotype                                  0\n",
       "phenotype_disease                          0\n",
       "phenotype_gene                             0\n",
       "project                                   16\n",
       "project_in_project                        15\n",
       "protein                                    0\n",
       "protein_gene                               0\n",
       "subject                                 1966\n",
       "subject_disease                          197\n",
       "subject_in_collection                  12002\n",
       "subject_phenotype                          0\n",
       "subject_race                               0\n",
       "subject_role_taxonomy                   1966\n",
       "subject_substance                          0\n",
       "substance                              29437"
      ]
     },
     "execution_count": 5,
     "metadata": {},
     "output_type": "execute_result"
    }
   ],
   "source": [
    "total_files = CFDE.tables['file'].count()\n",
    "total_collections = CFDE.tables['collection'].count()\n",
    "total_biosamples = CFDE.tables['biosample'].count()\n",
    "total_subjects = CFDE.tables['subject'].count()\n",
    "total_projects = CFDE.tables['project'].count()\n",
    "entity_counts = pd.Series({\n",
    "  name: table.count()\n",
    "  for name, table in CFDE.tables.items()\n",
    "}).to_frame('Entity Counts')\n",
    "entity_counts.to_csv('entity-counts.tsv', sep='\\t')\n",
    "entity_counts"
   ]
  },
  {
   "cell_type": "markdown",
   "metadata": {},
   "source": [
    "## Step 3. Compute and report metric compliance for the datapackage\n",
    "\n",
    "We use a python decorator for registering each metric into the rubric. This lets us define each metric in its own cell with its description and code to assert it. Because of the nature of these assertions, assessments are performed as metrics are registered. This assessment is datapackage-centric rather than file centric.\n",
    "\n",
    "This paradigm can be used for any rubric allowing assessment code to remain the same even with changing metrics, furthermore this is compatible with [FAIRshake](https://fairshake.cloud/) assessments, adopting FAIRshake metric identifiers allowing the results to be easily registered with FAIRshake."
   ]
  },
  {
   "cell_type": "code",
   "execution_count": 6,
   "metadata": {},
   "outputs": [],
   "source": [
    "rubric = {\n",
    "  '@id': 36,\n",
    "  'name': 'NIH CFDE Interoperability',\n",
    "  'description': 'This rubric identifies aspects of the metadata models which promote interoperable dataset querying and filtering',\n",
    "  'metrics': {},\n",
    "}\n",
    "answers = []\n",
    "\n",
    "def _rbInterpolate(value):\n",
    "  if pd.isna(value): return f\"#666666\"\n",
    "  r, g, b = int(255. * (1-value)), 0, int(255. * value)\n",
    "  return f\"{r:02x}{g:02x}{b:02x}\"\n",
    "\n",
    "def _asPct(value):\n",
    "  if pd.isna(value):\n",
    "    return \"NaN\"\n",
    "  else:\n",
    "    return f\"{value*100:.2f}%\"\n",
    "\n",
    "def _register_metric_answer(schema):\n",
    "  global metrics\n",
    "  global answers\n",
    "  def wrapper(func):\n",
    "    rubric['metrics'][schema['@id']] = dict(schema, func=func)\n",
    "    link = '' if schema['@id'] < 0 else f\" ([{schema['@id']}](https://fairshake.cloud/metric/{schema['@id']}))\"\n",
    "    display(Markdown(dedent(f'''\n",
    "      ### Metric{link}: {schema['name']}\n",
    "      **{schema['description']}**\n",
    "\n",
    "      {schema['detail']}\n",
    "    ''')))\n",
    "    answer = dict(func(), metric=schema['@id'])\n",
    "    answers.append(answer)\n",
    "    display(Markdown(dedent(f'''\n",
    "      #### Results: <span style=\"font-weight: bold; color: #{_rbInterpolate(answer['value'])}\">{_asPct(answer['value'])}</span> '''\n",
    "    ) + dedent(answer['comment'])))\n",
    "  setattr(wrapper, '__name__', schema['name'])\n",
    "  return wrapper"
   ]
  },
  {
   "cell_type": "code",
   "execution_count": 7,
   "metadata": {},
   "outputs": [
    {
     "data": {
      "text/markdown": [
       "\n",
       "### Metric ([106](https://fairshake.cloud/metric/106)): Metadata conformance\n",
       "**The metadata properly conforms with the CFDE perscribed metadata model specification**\n",
       "\n",
       "The average metadata coverage of all tables\n"
      ],
      "text/plain": [
       "<IPython.core.display.Markdown object>"
      ]
     },
     "metadata": {},
     "output_type": "display_data"
    },
    {
     "data": {
      "text/markdown": [
       "### Table 2. Metadata Coverage"
      ],
      "text/plain": [
       "<IPython.core.display.Markdown object>"
      ]
     },
     "metadata": {},
     "output_type": "display_data"
    },
    {
     "data": {
      "text/html": [
       "<div>\n",
       "<style scoped>\n",
       "    .dataframe tbody tr th:only-of-type {\n",
       "        vertical-align: middle;\n",
       "    }\n",
       "\n",
       "    .dataframe tbody tr th {\n",
       "        vertical-align: top;\n",
       "    }\n",
       "\n",
       "    .dataframe thead th {\n",
       "        text-align: right;\n",
       "    }\n",
       "</style>\n",
       "<table border=\"1\" class=\"dataframe\">\n",
       "  <thead>\n",
       "    <tr style=\"text-align: right;\">\n",
       "      <th></th>\n",
       "      <th>count</th>\n",
       "      <th>mean</th>\n",
       "      <th>std</th>\n",
       "      <th>min</th>\n",
       "      <th>25%</th>\n",
       "      <th>50%</th>\n",
       "      <th>75%</th>\n",
       "      <th>max</th>\n",
       "    </tr>\n",
       "    <tr>\n",
       "      <th>table</th>\n",
       "      <th></th>\n",
       "      <th></th>\n",
       "      <th></th>\n",
       "      <th></th>\n",
       "      <th></th>\n",
       "      <th></th>\n",
       "      <th></th>\n",
       "      <th></th>\n",
       "    </tr>\n",
       "  </thead>\n",
       "  <tbody>\n",
       "    <tr>\n",
       "      <th>subject</th>\n",
       "      <td>1966.0</td>\n",
       "      <td>0.577823</td>\n",
       "      <td>5.827496e-02</td>\n",
       "      <td>0.500000</td>\n",
       "      <td>0.500000</td>\n",
       "      <td>0.600000</td>\n",
       "      <td>0.600000</td>\n",
       "      <td>0.700</td>\n",
       "    </tr>\n",
       "    <tr>\n",
       "      <th>collection</th>\n",
       "      <td>409.0</td>\n",
       "      <td>0.678484</td>\n",
       "      <td>6.314685e-02</td>\n",
       "      <td>0.500000</td>\n",
       "      <td>0.625000</td>\n",
       "      <td>0.625000</td>\n",
       "      <td>0.750000</td>\n",
       "      <td>0.750</td>\n",
       "    </tr>\n",
       "    <tr>\n",
       "      <th>project</th>\n",
       "      <td>16.0</td>\n",
       "      <td>0.732143</td>\n",
       "      <td>1.463850e-01</td>\n",
       "      <td>0.571429</td>\n",
       "      <td>0.571429</td>\n",
       "      <td>0.714286</td>\n",
       "      <td>0.857143</td>\n",
       "      <td>1.000</td>\n",
       "    </tr>\n",
       "    <tr>\n",
       "      <th>biosample</th>\n",
       "      <td>1466838.0</td>\n",
       "      <td>0.748706</td>\n",
       "      <td>1.267034e-02</td>\n",
       "      <td>0.625000</td>\n",
       "      <td>0.750000</td>\n",
       "      <td>0.750000</td>\n",
       "      <td>0.750000</td>\n",
       "      <td>0.875</td>\n",
       "    </tr>\n",
       "    <tr>\n",
       "      <th>compound</th>\n",
       "      <td>29315.0</td>\n",
       "      <td>0.750000</td>\n",
       "      <td>0.000000e+00</td>\n",
       "      <td>0.750000</td>\n",
       "      <td>0.750000</td>\n",
       "      <td>0.750000</td>\n",
       "      <td>0.750000</td>\n",
       "      <td>0.750</td>\n",
       "    </tr>\n",
       "    <tr>\n",
       "      <th>file</th>\n",
       "      <td>1454802.0</td>\n",
       "      <td>0.791869</td>\n",
       "      <td>2.731600e-02</td>\n",
       "      <td>0.700000</td>\n",
       "      <td>0.800000</td>\n",
       "      <td>0.800000</td>\n",
       "      <td>0.800000</td>\n",
       "      <td>0.800</td>\n",
       "    </tr>\n",
       "    <tr>\n",
       "      <th>biosample_from_subject</th>\n",
       "      <td>1466838.0</td>\n",
       "      <td>0.800000</td>\n",
       "      <td>5.551117e-16</td>\n",
       "      <td>0.800000</td>\n",
       "      <td>0.800000</td>\n",
       "      <td>0.800000</td>\n",
       "      <td>0.800000</td>\n",
       "      <td>0.800</td>\n",
       "    </tr>\n",
       "    <tr>\n",
       "      <th>substance</th>\n",
       "      <td>29437.0</td>\n",
       "      <td>0.800000</td>\n",
       "      <td>0.000000e+00</td>\n",
       "      <td>0.800000</td>\n",
       "      <td>0.800000</td>\n",
       "      <td>0.800000</td>\n",
       "      <td>0.800000</td>\n",
       "      <td>0.800</td>\n",
       "    </tr>\n",
       "    <tr>\n",
       "      <th>disease</th>\n",
       "      <td>29.0</td>\n",
       "      <td>0.991379</td>\n",
       "      <td>4.642383e-02</td>\n",
       "      <td>0.750000</td>\n",
       "      <td>1.000000</td>\n",
       "      <td>1.000000</td>\n",
       "      <td>1.000000</td>\n",
       "      <td>1.000</td>\n",
       "    </tr>\n",
       "    <tr>\n",
       "      <th>collection_anatomy</th>\n",
       "      <td>179.0</td>\n",
       "      <td>1.000000</td>\n",
       "      <td>0.000000e+00</td>\n",
       "      <td>1.000000</td>\n",
       "      <td>1.000000</td>\n",
       "      <td>1.000000</td>\n",
       "      <td>1.000000</td>\n",
       "      <td>1.000</td>\n",
       "    </tr>\n",
       "    <tr>\n",
       "      <th>subject_in_collection</th>\n",
       "      <td>12002.0</td>\n",
       "      <td>1.000000</td>\n",
       "      <td>0.000000e+00</td>\n",
       "      <td>1.000000</td>\n",
       "      <td>1.000000</td>\n",
       "      <td>1.000000</td>\n",
       "      <td>1.000000</td>\n",
       "      <td>1.000</td>\n",
       "    </tr>\n",
       "    <tr>\n",
       "      <th>subject_disease</th>\n",
       "      <td>197.0</td>\n",
       "      <td>1.000000</td>\n",
       "      <td>0.000000e+00</td>\n",
       "      <td>1.000000</td>\n",
       "      <td>1.000000</td>\n",
       "      <td>1.000000</td>\n",
       "      <td>1.000000</td>\n",
       "      <td>1.000</td>\n",
       "    </tr>\n",
       "    <tr>\n",
       "      <th>assay_type</th>\n",
       "      <td>28.0</td>\n",
       "      <td>1.000000</td>\n",
       "      <td>0.000000e+00</td>\n",
       "      <td>1.000000</td>\n",
       "      <td>1.000000</td>\n",
       "      <td>1.000000</td>\n",
       "      <td>1.000000</td>\n",
       "      <td>1.000</td>\n",
       "    </tr>\n",
       "    <tr>\n",
       "      <th>project_in_project</th>\n",
       "      <td>15.0</td>\n",
       "      <td>1.000000</td>\n",
       "      <td>0.000000e+00</td>\n",
       "      <td>1.000000</td>\n",
       "      <td>1.000000</td>\n",
       "      <td>1.000000</td>\n",
       "      <td>1.000000</td>\n",
       "      <td>1.000</td>\n",
       "    </tr>\n",
       "    <tr>\n",
       "      <th>biosample_disease</th>\n",
       "      <td>1211130.0</td>\n",
       "      <td>1.000000</td>\n",
       "      <td>0.000000e+00</td>\n",
       "      <td>1.000000</td>\n",
       "      <td>1.000000</td>\n",
       "      <td>1.000000</td>\n",
       "      <td>1.000000</td>\n",
       "      <td>1.000</td>\n",
       "    </tr>\n",
       "    <tr>\n",
       "      <th>ncbi_taxonomy</th>\n",
       "      <td>1.0</td>\n",
       "      <td>1.000000</td>\n",
       "      <td>0.000000e+00</td>\n",
       "      <td>1.000000</td>\n",
       "      <td>1.000000</td>\n",
       "      <td>1.000000</td>\n",
       "      <td>1.000000</td>\n",
       "      <td>1.000</td>\n",
       "    </tr>\n",
       "    <tr>\n",
       "      <th>id_namespace</th>\n",
       "      <td>1.0</td>\n",
       "      <td>1.000000</td>\n",
       "      <td>0.000000e+00</td>\n",
       "      <td>1.000000</td>\n",
       "      <td>1.000000</td>\n",
       "      <td>1.000000</td>\n",
       "      <td>1.000000</td>\n",
       "      <td>1.000</td>\n",
       "    </tr>\n",
       "    <tr>\n",
       "      <th>gene</th>\n",
       "      <td>7443.0</td>\n",
       "      <td>1.000000</td>\n",
       "      <td>0.000000e+00</td>\n",
       "      <td>1.000000</td>\n",
       "      <td>1.000000</td>\n",
       "      <td>1.000000</td>\n",
       "      <td>1.000000</td>\n",
       "      <td>1.000</td>\n",
       "    </tr>\n",
       "    <tr>\n",
       "      <th>file_in_collection</th>\n",
       "      <td>465.0</td>\n",
       "      <td>1.000000</td>\n",
       "      <td>0.000000e+00</td>\n",
       "      <td>1.000000</td>\n",
       "      <td>1.000000</td>\n",
       "      <td>1.000000</td>\n",
       "      <td>1.000000</td>\n",
       "      <td>1.000</td>\n",
       "    </tr>\n",
       "    <tr>\n",
       "      <th>file_format</th>\n",
       "      <td>4.0</td>\n",
       "      <td>1.000000</td>\n",
       "      <td>0.000000e+00</td>\n",
       "      <td>1.000000</td>\n",
       "      <td>1.000000</td>\n",
       "      <td>1.000000</td>\n",
       "      <td>1.000000</td>\n",
       "      <td>1.000</td>\n",
       "    </tr>\n",
       "    <tr>\n",
       "      <th>file_describes_subject</th>\n",
       "      <td>1466540.0</td>\n",
       "      <td>1.000000</td>\n",
       "      <td>0.000000e+00</td>\n",
       "      <td>1.000000</td>\n",
       "      <td>1.000000</td>\n",
       "      <td>1.000000</td>\n",
       "      <td>1.000000</td>\n",
       "      <td>1.000</td>\n",
       "    </tr>\n",
       "    <tr>\n",
       "      <th>file_describes_biosample</th>\n",
       "      <td>1467271.0</td>\n",
       "      <td>1.000000</td>\n",
       "      <td>0.000000e+00</td>\n",
       "      <td>1.000000</td>\n",
       "      <td>1.000000</td>\n",
       "      <td>1.000000</td>\n",
       "      <td>1.000000</td>\n",
       "      <td>1.000</td>\n",
       "    </tr>\n",
       "    <tr>\n",
       "      <th>biosample_gene</th>\n",
       "      <td>361735.0</td>\n",
       "      <td>1.000000</td>\n",
       "      <td>0.000000e+00</td>\n",
       "      <td>1.000000</td>\n",
       "      <td>1.000000</td>\n",
       "      <td>1.000000</td>\n",
       "      <td>1.000000</td>\n",
       "      <td>1.000</td>\n",
       "    </tr>\n",
       "    <tr>\n",
       "      <th>subject_role_taxonomy</th>\n",
       "      <td>1966.0</td>\n",
       "      <td>1.000000</td>\n",
       "      <td>0.000000e+00</td>\n",
       "      <td>1.000000</td>\n",
       "      <td>1.000000</td>\n",
       "      <td>1.000000</td>\n",
       "      <td>1.000000</td>\n",
       "      <td>1.000</td>\n",
       "    </tr>\n",
       "    <tr>\n",
       "      <th>dcc</th>\n",
       "      <td>1.0</td>\n",
       "      <td>1.000000</td>\n",
       "      <td>0.000000e+00</td>\n",
       "      <td>1.000000</td>\n",
       "      <td>1.000000</td>\n",
       "      <td>1.000000</td>\n",
       "      <td>1.000000</td>\n",
       "      <td>1.000</td>\n",
       "    </tr>\n",
       "    <tr>\n",
       "      <th>data_type</th>\n",
       "      <td>8.0</td>\n",
       "      <td>1.000000</td>\n",
       "      <td>0.000000e+00</td>\n",
       "      <td>1.000000</td>\n",
       "      <td>1.000000</td>\n",
       "      <td>1.000000</td>\n",
       "      <td>1.000000</td>\n",
       "      <td>1.000</td>\n",
       "    </tr>\n",
       "    <tr>\n",
       "      <th>biosample_in_collection</th>\n",
       "      <td>12002.0</td>\n",
       "      <td>1.000000</td>\n",
       "      <td>0.000000e+00</td>\n",
       "      <td>1.000000</td>\n",
       "      <td>1.000000</td>\n",
       "      <td>1.000000</td>\n",
       "      <td>1.000000</td>\n",
       "      <td>1.000</td>\n",
       "    </tr>\n",
       "    <tr>\n",
       "      <th>collection_taxonomy</th>\n",
       "      <td>409.0</td>\n",
       "      <td>1.000000</td>\n",
       "      <td>0.000000e+00</td>\n",
       "      <td>1.000000</td>\n",
       "      <td>1.000000</td>\n",
       "      <td>1.000000</td>\n",
       "      <td>1.000000</td>\n",
       "      <td>1.000</td>\n",
       "    </tr>\n",
       "    <tr>\n",
       "      <th>collection_defined_by_project</th>\n",
       "      <td>409.0</td>\n",
       "      <td>1.000000</td>\n",
       "      <td>0.000000e+00</td>\n",
       "      <td>1.000000</td>\n",
       "      <td>1.000000</td>\n",
       "      <td>1.000000</td>\n",
       "      <td>1.000000</td>\n",
       "      <td>1.000</td>\n",
       "    </tr>\n",
       "    <tr>\n",
       "      <th>biosample_substance</th>\n",
       "      <td>860327.0</td>\n",
       "      <td>1.000000</td>\n",
       "      <td>0.000000e+00</td>\n",
       "      <td>1.000000</td>\n",
       "      <td>1.000000</td>\n",
       "      <td>1.000000</td>\n",
       "      <td>1.000000</td>\n",
       "      <td>1.000</td>\n",
       "    </tr>\n",
       "    <tr>\n",
       "      <th>anatomy</th>\n",
       "      <td>60.0</td>\n",
       "      <td>1.000000</td>\n",
       "      <td>0.000000e+00</td>\n",
       "      <td>1.000000</td>\n",
       "      <td>1.000000</td>\n",
       "      <td>1.000000</td>\n",
       "      <td>1.000000</td>\n",
       "      <td>1.000</td>\n",
       "    </tr>\n",
       "  </tbody>\n",
       "</table>\n",
       "</div>"
      ],
      "text/plain": [
       "                                   count      mean           std       min  \\\n",
       "table                                                                        \n",
       "subject                           1966.0  0.577823  5.827496e-02  0.500000   \n",
       "collection                         409.0  0.678484  6.314685e-02  0.500000   \n",
       "project                             16.0  0.732143  1.463850e-01  0.571429   \n",
       "biosample                      1466838.0  0.748706  1.267034e-02  0.625000   \n",
       "compound                         29315.0  0.750000  0.000000e+00  0.750000   \n",
       "file                           1454802.0  0.791869  2.731600e-02  0.700000   \n",
       "biosample_from_subject         1466838.0  0.800000  5.551117e-16  0.800000   \n",
       "substance                        29437.0  0.800000  0.000000e+00  0.800000   \n",
       "disease                             29.0  0.991379  4.642383e-02  0.750000   \n",
       "collection_anatomy                 179.0  1.000000  0.000000e+00  1.000000   \n",
       "subject_in_collection            12002.0  1.000000  0.000000e+00  1.000000   \n",
       "subject_disease                    197.0  1.000000  0.000000e+00  1.000000   \n",
       "assay_type                          28.0  1.000000  0.000000e+00  1.000000   \n",
       "project_in_project                  15.0  1.000000  0.000000e+00  1.000000   \n",
       "biosample_disease              1211130.0  1.000000  0.000000e+00  1.000000   \n",
       "ncbi_taxonomy                        1.0  1.000000  0.000000e+00  1.000000   \n",
       "id_namespace                         1.0  1.000000  0.000000e+00  1.000000   \n",
       "gene                              7443.0  1.000000  0.000000e+00  1.000000   \n",
       "file_in_collection                 465.0  1.000000  0.000000e+00  1.000000   \n",
       "file_format                          4.0  1.000000  0.000000e+00  1.000000   \n",
       "file_describes_subject         1466540.0  1.000000  0.000000e+00  1.000000   \n",
       "file_describes_biosample       1467271.0  1.000000  0.000000e+00  1.000000   \n",
       "biosample_gene                  361735.0  1.000000  0.000000e+00  1.000000   \n",
       "subject_role_taxonomy             1966.0  1.000000  0.000000e+00  1.000000   \n",
       "dcc                                  1.0  1.000000  0.000000e+00  1.000000   \n",
       "data_type                            8.0  1.000000  0.000000e+00  1.000000   \n",
       "biosample_in_collection          12002.0  1.000000  0.000000e+00  1.000000   \n",
       "collection_taxonomy                409.0  1.000000  0.000000e+00  1.000000   \n",
       "collection_defined_by_project      409.0  1.000000  0.000000e+00  1.000000   \n",
       "biosample_substance             860327.0  1.000000  0.000000e+00  1.000000   \n",
       "anatomy                             60.0  1.000000  0.000000e+00  1.000000   \n",
       "\n",
       "                                    25%       50%       75%    max  \n",
       "table                                                               \n",
       "subject                        0.500000  0.600000  0.600000  0.700  \n",
       "collection                     0.625000  0.625000  0.750000  0.750  \n",
       "project                        0.571429  0.714286  0.857143  1.000  \n",
       "biosample                      0.750000  0.750000  0.750000  0.875  \n",
       "compound                       0.750000  0.750000  0.750000  0.750  \n",
       "file                           0.800000  0.800000  0.800000  0.800  \n",
       "biosample_from_subject         0.800000  0.800000  0.800000  0.800  \n",
       "substance                      0.800000  0.800000  0.800000  0.800  \n",
       "disease                        1.000000  1.000000  1.000000  1.000  \n",
       "collection_anatomy             1.000000  1.000000  1.000000  1.000  \n",
       "subject_in_collection          1.000000  1.000000  1.000000  1.000  \n",
       "subject_disease                1.000000  1.000000  1.000000  1.000  \n",
       "assay_type                     1.000000  1.000000  1.000000  1.000  \n",
       "project_in_project             1.000000  1.000000  1.000000  1.000  \n",
       "biosample_disease              1.000000  1.000000  1.000000  1.000  \n",
       "ncbi_taxonomy                  1.000000  1.000000  1.000000  1.000  \n",
       "id_namespace                   1.000000  1.000000  1.000000  1.000  \n",
       "gene                           1.000000  1.000000  1.000000  1.000  \n",
       "file_in_collection             1.000000  1.000000  1.000000  1.000  \n",
       "file_format                    1.000000  1.000000  1.000000  1.000  \n",
       "file_describes_subject         1.000000  1.000000  1.000000  1.000  \n",
       "file_describes_biosample       1.000000  1.000000  1.000000  1.000  \n",
       "biosample_gene                 1.000000  1.000000  1.000000  1.000  \n",
       "subject_role_taxonomy          1.000000  1.000000  1.000000  1.000  \n",
       "dcc                            1.000000  1.000000  1.000000  1.000  \n",
       "data_type                      1.000000  1.000000  1.000000  1.000  \n",
       "biosample_in_collection        1.000000  1.000000  1.000000  1.000  \n",
       "collection_taxonomy            1.000000  1.000000  1.000000  1.000  \n",
       "collection_defined_by_project  1.000000  1.000000  1.000000  1.000  \n",
       "biosample_substance            1.000000  1.000000  1.000000  1.000  \n",
       "anatomy                        1.000000  1.000000  1.000000  1.000  "
      ]
     },
     "metadata": {},
     "output_type": "display_data"
    },
    {
     "data": {
      "text/markdown": [
       "\n",
       "#### Results: <span style=\"font-weight: bold; color: #1100ed\">93.13%</span> (See metadata coverage for more info)"
      ],
      "text/plain": [
       "<IPython.core.display.Markdown object>"
      ]
     },
     "metadata": {},
     "output_type": "display_data"
    }
   ],
   "source": [
    "@_register_metric_answer({\n",
    "  # standardized metadata format (107), machine readable metadata (106)\n",
    "  # metadata license (117) (c2m2 ?)\n",
    "  '@id': 106,\n",
    "  'name': 'Metadata conformance',\n",
    "  'description': 'The metadata properly conforms with the CFDE perscribed metadata model specification',\n",
    "  'detail': '''The average metadata coverage of all tables''',\n",
    "  'principle': 'Findable',\n",
    "})\n",
    "def _():\n",
    "  display(Markdown('### Table 2. Metadata Coverage'))\n",
    "  coverage = pd.DataFrame(\n",
    "    dict(\n",
    "      table=table_name,\n",
    "      coverage=len(list(filter_empty(entity.values()))) / len(table.column_definitions.keys()),\n",
    "    )\n",
    "    for table_name, table in CFDE.tables.items()\n",
    "    for entity in table.entities()\n",
    "  ).groupby('table')['coverage'].describe().fillna(0).sort_values('mean')\n",
    "  coverage.to_csv('coverage.tsv', sep='\\t')\n",
    "  display(coverage)\n",
    "  value = coverage['mean'].mean()\n",
    "  return {\n",
    "    'value': value,\n",
    "    'comment': f'(See metadata coverage for more info)',\n",
    "  }"
   ]
  },
  {
   "cell_type": "code",
   "execution_count": 8,
   "metadata": {},
   "outputs": [
    {
     "data": {
      "text/markdown": [
       "\n",
       "### Metric ([104](https://fairshake.cloud/metric/104)): Persistent identifier\n",
       "**Globally unique, persistent, and valid identifiers (preferrably DOIs) are present for the dataset**\n",
       "\n",
       "We check that the persistent id that are present are DOIs.\n"
      ],
      "text/plain": [
       "<IPython.core.display.Markdown object>"
      ]
     },
     "metadata": {},
     "output_type": "display_data"
    },
    {
     "data": {
      "text/plain": [
       "https://www.lincsproject.org/  LDS-1505                                                                  http://lincsportal.ccs.miami.edu/datasets/view/LDS-1505                                                                                   0\n",
       "                               L1000_LINCS_DCIC_2021_MOAR008_NCIH2110_24H_B17_flunarizine_3.33uM.tsv.gz  https://lincs-dcic.s3.amazonaws.com/LINCS-data-2020/L1000/compound/L1000_LINCS_DCIC_MOAR008_NCIH2110_24H_B17_flunarizine_3.33uM.tsv.gz    0\n",
       "                               L1000_LINCS_DCIC_2021_MOAR008_NCIH2110_24H_B16_flunarizine_10uM.tsv.gz    https://lincs-dcic.s3.amazonaws.com/LINCS-data-2020/L1000/compound/L1000_LINCS_DCIC_MOAR008_NCIH2110_24H_B16_flunarizine_10uM.tsv.gz      0\n",
       "                               L1000_LINCS_DCIC_2021_MOAR008_NCIH2110_24H_B15_AH-6809_1.11uM.tsv.gz      https://lincs-dcic.s3.amazonaws.com/LINCS-data-2020/L1000/compound/L1000_LINCS_DCIC_MOAR008_NCIH2110_24H_B15_AH-6809_1.11uM.tsv.gz        0\n",
       "                               L1000_LINCS_DCIC_2021_MOAR008_NCIH2110_24H_B14_AH-6809_3.33uM.tsv.gz      https://lincs-dcic.s3.amazonaws.com/LINCS-data-2020/L1000/compound/L1000_LINCS_DCIC_MOAR008_NCIH2110_24H_B14_AH-6809_3.33uM.tsv.gz        0\n",
       "                                                                                                                                                                                                                                                  ..\n",
       "                               L1000_LINCS_DCIC_2021_KDB008_HA1E_96H_K18_DNAJB2.tsv.gz                   https://lincs-dcic.s3.amazonaws.com/LINCS-data-2020/L1000/shRNA/L1000_LINCS_DCIC_KDB008_HA1E_96H_K18_DNAJB2.tsv.gz                        0\n",
       "                               L1000_LINCS_DCIC_2021_KDB008_HA1E_96H_K17_TM9SF3.tsv.gz                   https://lincs-dcic.s3.amazonaws.com/LINCS-data-2020/L1000/shRNA/L1000_LINCS_DCIC_KDB008_HA1E_96H_K17_TM9SF3.tsv.gz                        0\n",
       "                               L1000_LINCS_DCIC_2021_KDB008_HA1E_96H_K16_EFNB3.tsv.gz                    https://lincs-dcic.s3.amazonaws.com/LINCS-data-2020/L1000/shRNA/L1000_LINCS_DCIC_KDB008_HA1E_96H_K16_EFNB3.tsv.gz                         0\n",
       "                               L1000_LINCS_DCIC_2021_KDB008_HA1E_96H_J15_CNOT4.tsv.gz                    https://lincs-dcic.s3.amazonaws.com/LINCS-data-2020/L1000/shRNA/L1000_LINCS_DCIC_KDB008_HA1E_96H_J15_CNOT4.tsv.gz                         0\n",
       "                               MDD_L1000_Level3                                                          https://www.synapse.org/#!Synapse:syn18918362.2                                                                                           0\n",
       "Length: 1454802, dtype: int64"
      ]
     },
     "metadata": {},
     "output_type": "display_data"
    },
    {
     "data": {
      "text/markdown": [
       "\n",
       "#### Results: <span style=\"font-weight: bold; color: #ff0000\">0.00%</span> (0 / 1454802)"
      ],
      "text/plain": [
       "<IPython.core.display.Markdown object>"
      ]
     },
     "metadata": {},
     "output_type": "display_data"
    }
   ],
   "source": [
    "# TODO: Help us identify other acceptible globally unique persistent and valid identifiers\n",
    "@_register_metric_answer({\n",
    "  # Persistent identifier (105)\n",
    "  '@id': 104,\n",
    "  'name': 'Persistent identifier',\n",
    "  'description': 'Globally unique, persistent, and valid identifiers (preferrably DOIs) are present for the dataset',\n",
    "  'detail': '''We check that the persistent id that are present are DOIs.''',\n",
    "  'principle': 'Findable',\n",
    "})\n",
    "def _():\n",
    "  qualified_persistent_ids = pd.Series({\n",
    "    (file['id_namespace'], file['local_id'], file.get('persistent_id')): 1 if file.get('persistent_id') and re.match(r'^https?://[^/]+\\.doi\\.org/.+$', file['persistent_id']) else 0\n",
    "    for file in CFDE.tables['file'].entities()\n",
    "  }).sort_values()\n",
    "  display(qualified_persistent_ids)\n",
    "  total_qualified_persistent_ids = qualified_persistent_ids.sum()\n",
    "  value = (total_qualified_persistent_ids / total_files) if total_files else float('nan')\n",
    "  return {\n",
    "    'value': value,\n",
    "    'comment': f'({total_qualified_persistent_ids} / {total_files})',\n",
    "  }"
   ]
  },
  {
   "cell_type": "code",
   "execution_count": 9,
   "metadata": {},
   "outputs": [
    {
     "data": {
      "text/markdown": [
       "\n",
       "### Metric: ratio files are associated with data type term\n",
       "****\n",
       "\n",
       "\n"
      ],
      "text/plain": [
       "<IPython.core.display.Markdown object>"
      ]
     },
     "metadata": {},
     "output_type": "display_data"
    },
    {
     "data": {
      "text/markdown": [
       "\n",
       "#### Results: <span style=\"font-weight: bold; color: #0000ff\">100.00%</span> (1454802 / 1454802)"
      ],
      "text/plain": [
       "<IPython.core.display.Markdown object>"
      ]
     },
     "metadata": {},
     "output_type": "display_data"
    }
   ],
   "source": [
    "@_register_metric_answer({\n",
    "  '@id': -1,\n",
    "  'name': 'ratio files are associated with data type term',\n",
    "  'description': '',\n",
    "  'detail': '',\n",
    "  'principle': '',\n",
    "})\n",
    "def _():\n",
    "  total_files_associated_with_data_type = CFDE.tables['data_type'] \\\n",
    "    .link(CFDE.tables['file'], on=(\n",
    "      CFDE.tables['file'].data_type == CFDE.tables['data_type'].id\n",
    "    )) \\\n",
    "    .groupby(CFDE.tables['file'].id_namespace, CFDE.tables['file'].local_id) \\\n",
    "    .count()\n",
    "  value = (total_files_associated_with_data_type / total_files) if total_files else float('nan')\n",
    "  return {\n",
    "    'value': value,\n",
    "    'comment': f\"({total_files_associated_with_data_type} / {total_files})\",\n",
    "  }"
   ]
  },
  {
   "cell_type": "code",
   "execution_count": 10,
   "metadata": {},
   "outputs": [
    {
     "data": {
      "text/markdown": [
       "\n",
       "### Metric: ratio files are associated with file format term\n",
       "****\n",
       "\n",
       "\n"
      ],
      "text/plain": [
       "<IPython.core.display.Markdown object>"
      ]
     },
     "metadata": {},
     "output_type": "display_data"
    },
    {
     "data": {
      "text/markdown": [
       "\n",
       "#### Results: <span style=\"font-weight: bold; color: #0000ff\">100.00%</span> (1454802 / 1454802)"
      ],
      "text/plain": [
       "<IPython.core.display.Markdown object>"
      ]
     },
     "metadata": {},
     "output_type": "display_data"
    }
   ],
   "source": [
    "@_register_metric_answer({\n",
    "  '@id': -2,\n",
    "  'name': 'ratio files are associated with file format term',\n",
    "  'description': '',\n",
    "  'detail': '',\n",
    "  'principle': '',\n",
    "})\n",
    "def _():\n",
    "  total_files_associated_with_file_format = CFDE.tables['file_format'] \\\n",
    "    .link(CFDE.tables['file'], on=(\n",
    "      CFDE.tables['file'].file_format == CFDE.tables['file_format'].id\n",
    "    )) \\\n",
    "    .groupby(CFDE.tables['file'].id_namespace, CFDE.tables['file'].local_id) \\\n",
    "    .count()\n",
    "  value = (total_files_associated_with_file_format / total_files) if total_files else float('nan')\n",
    "  return {\n",
    "    'value': value,\n",
    "    'comment': f\"({total_files_associated_with_file_format} / {total_files})\",\n",
    "  }"
   ]
  },
  {
   "cell_type": "code",
   "execution_count": 11,
   "metadata": {},
   "outputs": [
    {
     "data": {
      "text/markdown": [
       "\n",
       "### Metric: ratio files are associated with assaytype term\n",
       "****\n",
       "\n",
       "\n"
      ],
      "text/plain": [
       "<IPython.core.display.Markdown object>"
      ]
     },
     "metadata": {},
     "output_type": "display_data"
    },
    {
     "data": {
      "text/markdown": [
       "\n",
       "#### Results: <span style=\"font-weight: bold; color: #0000fe\">100.00%</span> (1454799 / 1454802)"
      ],
      "text/plain": [
       "<IPython.core.display.Markdown object>"
      ]
     },
     "metadata": {},
     "output_type": "display_data"
    }
   ],
   "source": [
    "@_register_metric_answer({\n",
    "  '@id': -3,\n",
    "  'name': 'ratio files are associated with assaytype term',\n",
    "  'description': '',\n",
    "  'detail': '',\n",
    "  'principle': '',\n",
    "})\n",
    "def _():\n",
    "  total_files_associated_with_assay_type = CFDE.tables['assay_type'] \\\n",
    "    .link(CFDE.tables['file'], on=(\n",
    "      CFDE.tables['file'].assay_type == CFDE.tables['assay_type'].id\n",
    "    )) \\\n",
    "    .groupby(CFDE.tables['file'].id_namespace, CFDE.tables['file'].local_id) \\\n",
    "    .count()\n",
    "  value = (total_files_associated_with_assay_type / total_files) if total_files else float('nan')\n",
    "  return {\n",
    "    'value': value,\n",
    "    'comment': f\"({total_files_associated_with_assay_type} / {total_files})\",\n",
    "  }"
   ]
  },
  {
   "cell_type": "code",
   "execution_count": 12,
   "metadata": {},
   "outputs": [
    {
     "data": {
      "text/markdown": [
       "\n",
       "### Metric: ratio files are associate with anatomy term\n",
       "****\n",
       "\n",
       "\n"
      ],
      "text/plain": [
       "<IPython.core.display.Markdown object>"
      ]
     },
     "metadata": {},
     "output_type": "display_data"
    },
    {
     "data": {
      "text/markdown": [
       "\n",
       "#### Results: <span style=\"font-weight: bold; color: #0200fc\">98.96%</span> (1439684 / 1454802)"
      ],
      "text/plain": [
       "<IPython.core.display.Markdown object>"
      ]
     },
     "metadata": {},
     "output_type": "display_data"
    }
   ],
   "source": [
    "@_register_metric_answer({\n",
    "  '@id': -4,\n",
    "  'name': 'ratio files are associate with anatomy term',\n",
    "  'description': '',\n",
    "  'detail': '',\n",
    "  'principle': '',\n",
    "})\n",
    "def _():\n",
    "  total_files_associated_with_anatomy = CFDE.tables['anatomy'] \\\n",
    "    .link(CFDE.tables['biosample'], on=(\n",
    "      CFDE.tables['biosample'].anatomy == CFDE.tables['anatomy'].id\n",
    "    )) \\\n",
    "    .link(CFDE.tables['file_describes_biosample'], on=((\n",
    "      CFDE.tables['file_describes_biosample'].biosample_id_namespace == CFDE.tables['biosample'].id_namespace\n",
    "    ) & (\n",
    "      CFDE.tables['file_describes_biosample'].biosample_local_id == CFDE.tables['biosample'].local_id\n",
    "    ))) \\\n",
    "    .link(CFDE.tables['file'], on=((\n",
    "      CFDE.tables['file'].id_namespace == CFDE.tables['file_describes_biosample'].file_id_namespace\n",
    "    ) & (\n",
    "      CFDE.tables['file'].local_id == CFDE.tables['file_describes_biosample'].file_local_id\n",
    "    ))) \\\n",
    "    .groupby(CFDE.tables['file'].id_namespace, CFDE.tables['file'].local_id) \\\n",
    "    .count()\n",
    "  value = (total_files_associated_with_anatomy / total_files) if total_files else float('nan')\n",
    "  return {\n",
    "    'value': value,\n",
    "    'comment': f\"({total_files_associated_with_anatomy} / {total_files})\",\n",
    "  }"
   ]
  },
  {
   "cell_type": "code",
   "execution_count": 13,
   "metadata": {},
   "outputs": [
    {
     "data": {
      "text/markdown": [
       "\n",
       "### Metric: ratio files are associated with a biosample\n",
       "****\n",
       "\n",
       "\n"
      ],
      "text/plain": [
       "<IPython.core.display.Markdown object>"
      ]
     },
     "metadata": {},
     "output_type": "display_data"
    },
    {
     "data": {
      "text/markdown": [
       "\n",
       "#### Results: <span style=\"font-weight: bold; color: #0000ff\">100.00%</span> (1454802 / 1454802)"
      ],
      "text/plain": [
       "<IPython.core.display.Markdown object>"
      ]
     },
     "metadata": {},
     "output_type": "display_data"
    }
   ],
   "source": [
    "@_register_metric_answer({\n",
    "  '@id': -5,\n",
    "  'name': 'ratio files are associated with a biosample',\n",
    "  'description': '',\n",
    "  'detail': '',\n",
    "  'principle': '',\n",
    "})\n",
    "def _():\n",
    "  total_files_associated_with_biosample = CFDE.tables['biosample'] \\\n",
    "    .link(CFDE.tables['file_describes_biosample'], on=((\n",
    "      CFDE.tables['file_describes_biosample'].biosample_id_namespace == CFDE.tables['biosample'].id_namespace\n",
    "    ) & (\n",
    "      CFDE.tables['file_describes_biosample'].biosample_local_id == CFDE.tables['biosample'].local_id\n",
    "    ))) \\\n",
    "    .link(CFDE.tables['file'], on=((\n",
    "      CFDE.tables['file'].id_namespace == CFDE.tables['file_describes_biosample'].file_id_namespace\n",
    "    ) & (\n",
    "      CFDE.tables['file'].local_id == CFDE.tables['file_describes_biosample'].file_local_id\n",
    "    ))) \\\n",
    "    .groupby(CFDE.tables['file'].id_namespace, CFDE.tables['file'].local_id) \\\n",
    "    .count()\n",
    "  value = (total_files_associated_with_biosample / total_files) if total_files else float('nan')\n",
    "  return {\n",
    "    'value': value,\n",
    "    'comment': f\"({total_files_associated_with_biosample} / {total_files})\",\n",
    "  }"
   ]
  },
  {
   "cell_type": "code",
   "execution_count": 14,
   "metadata": {},
   "outputs": [
    {
     "data": {
      "text/markdown": [
       "\n",
       "### Metric: ratio files are associated with a subject\n",
       "****\n",
       "\n",
       "\n"
      ],
      "text/plain": [
       "<IPython.core.display.Markdown object>"
      ]
     },
     "metadata": {},
     "output_type": "display_data"
    },
    {
     "data": {
      "text/markdown": [
       "\n",
       "#### Results: <span style=\"font-weight: bold; color: #0000ff\">100.00%</span> (1454802 / 1454802)"
      ],
      "text/plain": [
       "<IPython.core.display.Markdown object>"
      ]
     },
     "metadata": {},
     "output_type": "display_data"
    }
   ],
   "source": [
    "@_register_metric_answer({\n",
    "  '@id': -6,\n",
    "  'name': 'ratio files are associated with a subject',\n",
    "  'description': '',\n",
    "  'detail': '',\n",
    "  'principle': '',\n",
    "})\n",
    "def _():\n",
    "  total_files_associated_with_subject = CFDE.tables['subject'] \\\n",
    "    .link(CFDE.tables['file_describes_subject'], on=((\n",
    "      CFDE.tables['file_describes_subject'].subject_id_namespace == CFDE.tables['subject'].id_namespace\n",
    "    ) & (\n",
    "      CFDE.tables['file_describes_subject'].subject_local_id == CFDE.tables['subject'].local_id\n",
    "    ))) \\\n",
    "    .link(CFDE.tables['file'], on=((\n",
    "      CFDE.tables['file'].id_namespace == CFDE.tables['file_describes_subject'].file_id_namespace\n",
    "    ) & (\n",
    "      CFDE.tables['file'].local_id == CFDE.tables['file_describes_subject'].file_local_id\n",
    "    ))) \\\n",
    "    .groupby(CFDE.tables['file'].id_namespace, CFDE.tables['file'].local_id) \\\n",
    "    .count()\n",
    "  value = (total_files_associated_with_subject / total_files) if total_files else float('nan')\n",
    "  return {\n",
    "    'value': value,\n",
    "    'comment': f\"({total_files_associated_with_subject} / {total_files})\",\n",
    "  }"
   ]
  },
  {
   "cell_type": "code",
   "execution_count": 15,
   "metadata": {},
   "outputs": [
    {
     "data": {
      "text/markdown": [
       "\n",
       "### Metric: ratio files are associated with a subject_role_taxonomy\n",
       "****\n",
       "\n",
       "\n"
      ],
      "text/plain": [
       "<IPython.core.display.Markdown object>"
      ]
     },
     "metadata": {},
     "output_type": "display_data"
    },
    {
     "data": {
      "text/markdown": [
       "\n",
       "#### Results: <span style=\"font-weight: bold; color: #0000ff\">100.00%</span> (1454802 / 1454802)"
      ],
      "text/plain": [
       "<IPython.core.display.Markdown object>"
      ]
     },
     "metadata": {},
     "output_type": "display_data"
    }
   ],
   "source": [
    "@_register_metric_answer({\n",
    "  '@id': -7,\n",
    "  'name': 'ratio files are associated with a subject_role_taxonomy',\n",
    "  'description': '',\n",
    "  'detail': '',\n",
    "  'principle': '',\n",
    "})\n",
    "def _():\n",
    "  total_files_associated_with_subject_role = CFDE.tables['subject_role_taxonomy'] \\\n",
    "    .link(CFDE.tables['subject'], on=((\n",
    "      CFDE.tables['subject'].id_namespace == CFDE.tables['subject_role_taxonomy'].subject_id_namespace\n",
    "    ) & (\n",
    "      CFDE.tables['subject'].local_id == CFDE.tables['subject_role_taxonomy'].subject_local_id\n",
    "    ))) \\\n",
    "    .link(CFDE.tables['file_describes_subject'], on=((\n",
    "      CFDE.tables['file_describes_subject'].subject_id_namespace == CFDE.tables['subject'].id_namespace\n",
    "    ) & (\n",
    "      CFDE.tables['file_describes_subject'].subject_local_id == CFDE.tables['subject'].local_id\n",
    "    ))) \\\n",
    "    .link(CFDE.tables['file'], on=((\n",
    "      CFDE.tables['file'].id_namespace == CFDE.tables['file_describes_subject'].file_id_namespace\n",
    "    ) & (\n",
    "      CFDE.tables['file'].local_id == CFDE.tables['file_describes_subject'].file_local_id\n",
    "    ))) \\\n",
    "    .groupby(CFDE.tables['file'].id_namespace, CFDE.tables['file'].local_id) \\\n",
    "    .count()\n",
    "  value = (total_files_associated_with_subject_role / total_files) if total_files else float('nan')\n",
    "  return {\n",
    "    'value': value,\n",
    "    'comment': f\"({total_files_associated_with_subject_role} / {total_files})\",\n",
    "  }"
   ]
  },
  {
   "cell_type": "code",
   "execution_count": 16,
   "metadata": {},
   "outputs": [
    {
     "data": {
      "text/markdown": [
       "\n",
       "### Metric: ratio biosamples are associated with a species term (NCBI Taxon)\n",
       "****\n",
       "\n",
       "\n"
      ],
      "text/plain": [
       "<IPython.core.display.Markdown object>"
      ]
     },
     "metadata": {},
     "output_type": "display_data"
    },
    {
     "data": {
      "text/markdown": [
       "\n",
       "#### Results: <span style=\"font-weight: bold; color: #0000ff\">100.00%</span> (1466838 / 1466838)"
      ],
      "text/plain": [
       "<IPython.core.display.Markdown object>"
      ]
     },
     "metadata": {},
     "output_type": "display_data"
    }
   ],
   "source": [
    "@_register_metric_answer({\n",
    "  '@id': -8,\n",
    "  'name': 'ratio biosamples are associated with a species term (NCBI Taxon)',\n",
    "  'description': '',\n",
    "  'detail': '',\n",
    "  'principle': '',\n",
    "})\n",
    "def _():\n",
    "  total_biosamples_associated_with_ncbi_taxon = CFDE.tables['ncbi_taxonomy'] \\\n",
    "    .link(CFDE.tables['subject_role_taxonomy'], on=(\n",
    "      CFDE.tables['subject_role_taxonomy'].taxonomy_id == CFDE.tables['ncbi_taxonomy'].id\n",
    "    )) \\\n",
    "    .link(CFDE.tables['subject'], on=((\n",
    "      CFDE.tables['subject'].id_namespace == CFDE.tables['subject_role_taxonomy'].subject_id_namespace\n",
    "    ) & (\n",
    "      CFDE.tables['subject'].local_id == CFDE.tables['subject_role_taxonomy'].subject_local_id\n",
    "    ))) \\\n",
    "    .link(CFDE.tables['biosample_from_subject'], on=((\n",
    "      CFDE.tables['biosample_from_subject'].subject_id_namespace == CFDE.tables['subject'].id_namespace\n",
    "    ) & (\n",
    "      CFDE.tables['biosample_from_subject'].subject_local_id == CFDE.tables['subject'].local_id\n",
    "    ))) \\\n",
    "    .link(CFDE.tables['biosample'], on=((\n",
    "      CFDE.tables['biosample'].id_namespace == CFDE.tables['biosample_from_subject'].biosample_id_namespace\n",
    "    ) & (\n",
    "      CFDE.tables['biosample'].local_id == CFDE.tables['biosample_from_subject'].biosample_local_id\n",
    "    ))) \\\n",
    "    .groupby(CFDE.tables['biosample'].id_namespace, CFDE.tables['biosample'].local_id) \\\n",
    "    .count()\n",
    "  value = (total_biosamples_associated_with_ncbi_taxon / total_biosamples) if total_biosamples else float('nan')\n",
    "  return {\n",
    "    'value': value,\n",
    "    'comment': f\"({total_biosamples_associated_with_ncbi_taxon} / {total_biosamples})\",\n",
    "  }"
   ]
  },
  {
   "cell_type": "code",
   "execution_count": 17,
   "metadata": {},
   "outputs": [
    {
     "data": {
      "text/markdown": [
       "\n",
       "### Metric: ratio biosamples are associated with a subject\n",
       "****\n",
       "\n",
       "\n"
      ],
      "text/plain": [
       "<IPython.core.display.Markdown object>"
      ]
     },
     "metadata": {},
     "output_type": "display_data"
    },
    {
     "data": {
      "text/markdown": [
       "\n",
       "#### Results: <span style=\"font-weight: bold; color: #0000ff\">100.00%</span> (1466838 / 1466838)"
      ],
      "text/plain": [
       "<IPython.core.display.Markdown object>"
      ]
     },
     "metadata": {},
     "output_type": "display_data"
    }
   ],
   "source": [
    "@_register_metric_answer({\n",
    "  '@id': -9,\n",
    "  'name': 'ratio biosamples are associated with a subject',\n",
    "  'description': '',\n",
    "  'detail': '',\n",
    "  'principle': '',\n",
    "})\n",
    "def _():\n",
    "  total_biosamples_associated_with_subject = CFDE.tables['subject'] \\\n",
    "    .link(CFDE.tables['biosample_from_subject'], on=((\n",
    "      CFDE.tables['biosample_from_subject'].subject_id_namespace == CFDE.tables['subject'].id_namespace\n",
    "    ) & (\n",
    "      CFDE.tables['biosample_from_subject'].subject_local_id == CFDE.tables['subject'].local_id\n",
    "    ))) \\\n",
    "    .link(CFDE.tables['biosample'], on=((\n",
    "      CFDE.tables['biosample'].id_namespace == CFDE.tables['biosample_from_subject'].biosample_id_namespace\n",
    "    ) & (\n",
    "      CFDE.tables['biosample'].local_id == CFDE.tables['biosample_from_subject'].biosample_local_id\n",
    "    ))) \\\n",
    "    .groupby(CFDE.tables['biosample'].id_namespace, CFDE.tables['biosample'].local_id) \\\n",
    "    .count()\n",
    "  value = (total_biosamples_associated_with_subject / total_biosamples) if total_biosamples else float('nan')\n",
    "  return {\n",
    "    'value': value,\n",
    "    'comment': f\"({total_biosamples_associated_with_subject} / {total_biosamples})\",\n",
    "  }"
   ]
  },
  {
   "cell_type": "code",
   "execution_count": 18,
   "metadata": {},
   "outputs": [
    {
     "data": {
      "text/markdown": [
       "\n",
       "### Metric: ratio biosamples are associated with a file\n",
       "****\n",
       "\n",
       "\n"
      ],
      "text/plain": [
       "<IPython.core.display.Markdown object>"
      ]
     },
     "metadata": {},
     "output_type": "display_data"
    },
    {
     "data": {
      "text/markdown": [
       "\n",
       "#### Results: <span style=\"font-weight: bold; color: #0000fe\">99.99%</span> (1466665 / 1466838)"
      ],
      "text/plain": [
       "<IPython.core.display.Markdown object>"
      ]
     },
     "metadata": {},
     "output_type": "display_data"
    }
   ],
   "source": [
    "@_register_metric_answer({\n",
    "  '@id': -10,\n",
    "  'name': 'ratio biosamples are associated with a file',\n",
    "  'description': '',\n",
    "  'detail': '',\n",
    "  'principle': '',\n",
    "})\n",
    "def _():\n",
    "  total_biosamples_associated_with_file = CFDE.tables['file'] \\\n",
    "    .link(CFDE.tables['file_describes_biosample'], on=((\n",
    "      CFDE.tables['file_describes_biosample'].file_id_namespace == CFDE.tables['file'].id_namespace\n",
    "    ) & (\n",
    "      CFDE.tables['file_describes_biosample'].file_local_id == CFDE.tables['file'].local_id\n",
    "    ))) \\\n",
    "    .link(CFDE.tables['biosample'], on=((\n",
    "      CFDE.tables['biosample'].id_namespace == CFDE.tables['file_describes_biosample'].biosample_id_namespace\n",
    "    ) & (\n",
    "      CFDE.tables['biosample'].local_id == CFDE.tables['file_describes_biosample'].biosample_local_id\n",
    "    ))) \\\n",
    "    .groupby(CFDE.tables['biosample'].id_namespace, CFDE.tables['biosample'].local_id) \\\n",
    "    .count()\n",
    "  value = (total_biosamples_associated_with_file / total_biosamples) if total_biosamples else float('nan')\n",
    "  return {\n",
    "    'value': value,\n",
    "    'comment': f\"({total_biosamples_associated_with_file} / {total_biosamples})\",\n",
    "  }"
   ]
  },
  {
   "cell_type": "code",
   "execution_count": 19,
   "metadata": {},
   "outputs": [
    {
     "data": {
      "text/markdown": [
       "\n",
       "### Metric: ratio biosamples are associated with an anatomy term\n",
       "****\n",
       "\n",
       "\n"
      ],
      "text/plain": [
       "<IPython.core.display.Markdown object>"
      ]
     },
     "metadata": {},
     "output_type": "display_data"
    },
    {
     "data": {
      "text/markdown": [
       "\n",
       "#### Results: <span style=\"font-weight: bold; color: #0200fc\">98.96%</span> (1451648 / 1466838)"
      ],
      "text/plain": [
       "<IPython.core.display.Markdown object>"
      ]
     },
     "metadata": {},
     "output_type": "display_data"
    }
   ],
   "source": [
    "@_register_metric_answer({\n",
    "  '@id': -11,\n",
    "  'name': 'ratio biosamples are associated with an anatomy term',\n",
    "  'description': '',\n",
    "  'detail': '',\n",
    "  'principle': '',\n",
    "})\n",
    "def _():\n",
    "  total_biosamples_associated_with_anatomy = CFDE.tables['anatomy'] \\\n",
    "    .link(CFDE.tables['biosample'], on=(\n",
    "      CFDE.tables['biosample'].anatomy == CFDE.tables['anatomy'].id\n",
    "    )) \\\n",
    "    .groupby(CFDE.tables['biosample'].id_namespace, CFDE.tables['biosample'].local_id) \\\n",
    "    .count()\n",
    "  value = (total_biosamples_associated_with_anatomy / total_biosamples) if total_biosamples else float('nan')\n",
    "  return {\n",
    "    'value': value,\n",
    "    'comment': f\"({total_biosamples_associated_with_anatomy} / {total_biosamples})\",\n",
    "  }"
   ]
  },
  {
   "cell_type": "code",
   "execution_count": 20,
   "metadata": {},
   "outputs": [
    {
     "data": {
      "text/markdown": [
       "\n",
       "### Metric: ratio biosamples are associated with an assay term\n",
       "****\n",
       "\n",
       "\n"
      ],
      "text/plain": [
       "<IPython.core.display.Markdown object>"
      ]
     },
     "metadata": {},
     "output_type": "display_data"
    },
    {
     "data": {
      "text/markdown": [
       "\n",
       "#### Results: <span style=\"font-weight: bold; color: #0000fe\">99.97%</span> (1466452 / 1466838)"
      ],
      "text/plain": [
       "<IPython.core.display.Markdown object>"
      ]
     },
     "metadata": {},
     "output_type": "display_data"
    }
   ],
   "source": [
    "@_register_metric_answer({\n",
    "  '@id': -12,\n",
    "  'name': 'ratio biosamples are associated with an assay term',\n",
    "  'description': '',\n",
    "  'detail': '',\n",
    "  'principle': '',\n",
    "})\n",
    "def _():\n",
    "  total_biosamples_associated_with_assay = CFDE.tables['file'].filter(CFDE.tables['file'].assay_type != None)   .link(CFDE.tables['file_describes_biosample'], on=((\n",
    "      CFDE.tables['file_describes_biosample'].file_id_namespace == CFDE.tables['file'].id_namespace\n",
    "    ) & (\n",
    "      CFDE.tables['file_describes_biosample'].file_local_id == CFDE.tables['file'].local_id\n",
    "    ))) \\\n",
    "    .link(CFDE.tables['biosample'], on=((\n",
    "      CFDE.tables['biosample'].id_namespace == CFDE.tables['file_describes_biosample'].biosample_id_namespace\n",
    "    ) & (\n",
    "      CFDE.tables['biosample'].local_id == CFDE.tables['file_describes_biosample'].biosample_local_id\n",
    "    ))) \\\n",
    "    .groupby(CFDE.tables['biosample'].id_namespace, CFDE.tables['biosample'].local_id) \\\n",
    "    .count()\n",
    "  value = (total_biosamples_associated_with_assay / total_biosamples) if total_biosamples else float('nan')\n",
    "  return {\n",
    "    'value': value,\n",
    "    'comment': f\"({total_biosamples_associated_with_assay} / {total_biosamples})\",\n",
    "  }"
   ]
  },
  {
   "cell_type": "code",
   "execution_count": 21,
   "metadata": {},
   "outputs": [
    {
     "data": {
      "text/markdown": [
       "\n",
       "### Metric: ratio subjects are associated with a taxonomy\n",
       "****\n",
       "\n",
       "\n"
      ],
      "text/plain": [
       "<IPython.core.display.Markdown object>"
      ]
     },
     "metadata": {},
     "output_type": "display_data"
    },
    {
     "data": {
      "text/markdown": [
       "\n",
       "#### Results: <span style=\"font-weight: bold; color: #0000ff\">100.00%</span> (1966 / 1966)"
      ],
      "text/plain": [
       "<IPython.core.display.Markdown object>"
      ]
     },
     "metadata": {},
     "output_type": "display_data"
    }
   ],
   "source": [
    "@_register_metric_answer({\n",
    "  '@id': -13,\n",
    "  'name': 'ratio subjects are associated with a taxonomy',\n",
    "  'description': '',\n",
    "  'detail': '',\n",
    "  'principle': '',\n",
    "})\n",
    "def _():\n",
    "  total_subjects_associated_with_taxonomy = CFDE.tables['ncbi_taxonomy'] \\\n",
    "    .link(CFDE.tables['subject_role_taxonomy'], on=(\n",
    "      CFDE.tables['subject_role_taxonomy'].taxonomy_id == CFDE.tables['ncbi_taxonomy'].id\n",
    "    )) \\\n",
    "    .link(CFDE.tables['subject'], on=((\n",
    "      CFDE.tables['subject'].id_namespace == CFDE.tables['subject_role_taxonomy'].subject_id_namespace\n",
    "    ) & (\n",
    "      CFDE.tables['subject'].local_id == CFDE.tables['subject_role_taxonomy'].subject_local_id\n",
    "    ))) \\\n",
    "    .groupby(CFDE.tables['subject'].id_namespace, CFDE.tables['subject'].local_id) \\\n",
    "    .count()\n",
    "  value = (total_subjects_associated_with_taxonomy / total_subjects) if total_subjects else float('nan')\n",
    "  return {\n",
    "    'value': value,\n",
    "    'comment': f\"({total_subjects_associated_with_taxonomy} / {total_subjects})\",\n",
    "  }"
   ]
  },
  {
   "cell_type": "code",
   "execution_count": 22,
   "metadata": {},
   "outputs": [
    {
     "data": {
      "text/markdown": [
       "\n",
       "### Metric: ratio subjects have subject granularity\n",
       "****\n",
       "\n",
       "\n"
      ],
      "text/plain": [
       "<IPython.core.display.Markdown object>"
      ]
     },
     "metadata": {},
     "output_type": "display_data"
    },
    {
     "data": {
      "text/markdown": [
       "\n",
       "#### Results: <span style=\"font-weight: bold; color: #0000ff\">100.00%</span> (1966 / 1966)"
      ],
      "text/plain": [
       "<IPython.core.display.Markdown object>"
      ]
     },
     "metadata": {},
     "output_type": "display_data"
    }
   ],
   "source": [
    "@_register_metric_answer({\n",
    "  '@id': -14,\n",
    "  'name': 'ratio subjects have subject granularity',\n",
    "  'description': '',\n",
    "  'detail': '',\n",
    "  'principle': '',\n",
    "})\n",
    "def _():\n",
    "  total_subjects_associated_with_granularity = CFDE.tables['subject'].filter(\n",
    "    (CFDE.tables['subject'].granularity != None) & (CFDE.tables['subject'].granularity != '')\n",
    "  ).count()\n",
    "  value = (total_subjects_associated_with_granularity / total_subjects) if total_subjects else float('nan')\n",
    "  return {\n",
    "    'value': value,\n",
    "    'comment': f\"({total_subjects_associated_with_granularity} / {total_subjects})\",\n",
    "  }"
   ]
  },
  {
   "cell_type": "code",
   "execution_count": 23,
   "metadata": {},
   "outputs": [
    {
     "data": {
      "text/markdown": [
       "\n",
       "### Metric: ratio subjects have taxonomic role\n",
       "****\n",
       "\n",
       "\n"
      ],
      "text/plain": [
       "<IPython.core.display.Markdown object>"
      ]
     },
     "metadata": {},
     "output_type": "display_data"
    },
    {
     "data": {
      "text/markdown": [
       "\n",
       "#### Results: <span style=\"font-weight: bold; color: #0000ff\">100.00%</span> (1966 / 1966)"
      ],
      "text/plain": [
       "<IPython.core.display.Markdown object>"
      ]
     },
     "metadata": {},
     "output_type": "display_data"
    }
   ],
   "source": [
    "@_register_metric_answer({\n",
    "  '@id': -15,\n",
    "  'name': 'ratio subjects have taxonomic role',\n",
    "  'description': '',\n",
    "  'detail': '',\n",
    "  'principle': '',\n",
    "})\n",
    "def _():\n",
    "  total_subjects_associated_with_role_taxonomy = CFDE.tables['subject_role_taxonomy'] \\\n",
    "    .link(CFDE.tables['subject'], on=((\n",
    "      CFDE.tables['subject'].id_namespace == CFDE.tables['subject_role_taxonomy'].subject_id_namespace\n",
    "    ) & (\n",
    "      CFDE.tables['subject'].local_id == CFDE.tables['subject_role_taxonomy'].subject_local_id\n",
    "    ))) \\\n",
    "    .groupby(CFDE.tables['subject'].id_namespace, CFDE.tables['subject'].local_id) \\\n",
    "    .count()\n",
    "  value = (total_subjects_associated_with_role_taxonomy / total_subjects) if total_subjects else float('nan')\n",
    "  return {\n",
    "    'value': value,\n",
    "    'comment': f\"({total_subjects_associated_with_role_taxonomy} / {total_subjects})\",\n",
    "  }"
   ]
  },
  {
   "cell_type": "code",
   "execution_count": 24,
   "metadata": {},
   "outputs": [
    {
     "data": {
      "text/markdown": [
       "\n",
       "### Metric: ratio subjects associated with a biosample\n",
       "****\n",
       "\n",
       "\n"
      ],
      "text/plain": [
       "<IPython.core.display.Markdown object>"
      ]
     },
     "metadata": {},
     "output_type": "display_data"
    },
    {
     "data": {
      "text/markdown": [
       "\n",
       "#### Results: <span style=\"font-weight: bold; color: #0000ff\">100.00%</span> (1966 / 1966)"
      ],
      "text/plain": [
       "<IPython.core.display.Markdown object>"
      ]
     },
     "metadata": {},
     "output_type": "display_data"
    }
   ],
   "source": [
    "@_register_metric_answer({\n",
    "  '@id': -16,\n",
    "  'name': 'ratio subjects associated with a biosample',\n",
    "  'description': '',\n",
    "  'detail': '',\n",
    "  'principle': '',\n",
    "})\n",
    "def _():\n",
    "  total_subjects_associated_with_biosample = CFDE.tables['biosample'] \\\n",
    "    .link(CFDE.tables['biosample_from_subject'], on=((\n",
    "      CFDE.tables['biosample_from_subject'].biosample_id_namespace == CFDE.tables['biosample'].id_namespace\n",
    "    ) & (\n",
    "      CFDE.tables['biosample_from_subject'].biosample_local_id == CFDE.tables['biosample'].local_id\n",
    "    ))) \\\n",
    "    .link(CFDE.tables['subject'], on=((\n",
    "      CFDE.tables['subject'].id_namespace == CFDE.tables['biosample_from_subject'].subject_id_namespace\n",
    "    ) & (\n",
    "      CFDE.tables['subject'].local_id == CFDE.tables['biosample_from_subject'].subject_local_id\n",
    "    ))) \\\n",
    "    .groupby(CFDE.tables['subject'].id_namespace, CFDE.tables['subject'].local_id) \\\n",
    "    .count()\n",
    "  value = (total_subjects_associated_with_biosample / total_subjects) if total_subjects else float('nan')\n",
    "  return {\n",
    "    'value': value,\n",
    "    'comment': f\"({total_subjects_associated_with_biosample} / {total_subjects})\",\n",
    "  }"
   ]
  },
  {
   "cell_type": "code",
   "execution_count": 25,
   "metadata": {},
   "outputs": [
    {
     "data": {
      "text/markdown": [
       "\n",
       "### Metric: ratio subjects associated with a file\n",
       "****\n",
       "\n",
       "\n"
      ],
      "text/plain": [
       "<IPython.core.display.Markdown object>"
      ]
     },
     "metadata": {},
     "output_type": "display_data"
    },
    {
     "data": {
      "text/markdown": [
       "\n",
       "#### Results: <span style=\"font-weight: bold; color: #0000fe\">99.69%</span> (1960 / 1966)"
      ],
      "text/plain": [
       "<IPython.core.display.Markdown object>"
      ]
     },
     "metadata": {},
     "output_type": "display_data"
    }
   ],
   "source": [
    "@_register_metric_answer({\n",
    "  '@id': -17,\n",
    "  'name': 'ratio subjects associated with a file',\n",
    "  'description': '',\n",
    "  'detail': '',\n",
    "  'principle': '',\n",
    "})\n",
    "def _():\n",
    "  total_subjects_associated_with_file = CFDE.tables['file'] \\\n",
    "    .link(CFDE.tables['file_describes_subject'], on=((\n",
    "      CFDE.tables['file_describes_subject'].file_id_namespace == CFDE.tables['file'].id_namespace\n",
    "    ) & (\n",
    "      CFDE.tables['file_describes_subject'].file_local_id == CFDE.tables['file'].local_id\n",
    "    ))) \\\n",
    "    .link(CFDE.tables['subject'], on=((\n",
    "      CFDE.tables['subject'].id_namespace == CFDE.tables['file_describes_subject'].subject_id_namespace\n",
    "    ) & (\n",
    "      CFDE.tables['subject'].local_id == CFDE.tables['file_describes_subject'].subject_local_id\n",
    "    ))) \\\n",
    "    .groupby(CFDE.tables['subject'].id_namespace, CFDE.tables['subject'].local_id) \\\n",
    "    .count()\n",
    "  value = (total_subjects_associated_with_file / total_subjects) if total_subjects else float('nan')\n",
    "  return {\n",
    "    'value': value,\n",
    "    'comment': f\"({total_subjects_associated_with_file} / {total_subjects})\",\n",
    "  }"
   ]
  },
  {
   "cell_type": "code",
   "execution_count": 26,
   "metadata": {},
   "outputs": [
    {
     "data": {
      "text/markdown": [
       "\n",
       "### Metric: IF there are collections: # of files that are part of a collection\n",
       "****\n",
       "\n",
       "\n"
      ],
      "text/plain": [
       "<IPython.core.display.Markdown object>"
      ]
     },
     "metadata": {},
     "output_type": "display_data"
    },
    {
     "data": {
      "text/markdown": [
       "\n",
       "#### Results: <span style=\"font-weight: bold; color: #fe0000\">0.03%</span> (465 / 1454802)"
      ],
      "text/plain": [
       "<IPython.core.display.Markdown object>"
      ]
     },
     "metadata": {},
     "output_type": "display_data"
    }
   ],
   "source": [
    "@_register_metric_answer({\n",
    "  '@id': -18,\n",
    "  'name': 'IF there are collections: # of files that are part of a collection',\n",
    "  'description': '',\n",
    "  'detail': '',\n",
    "  'principle': '',\n",
    "})\n",
    "def _():\n",
    "  total_files_not_in_collection = CFDE.tables['collection'] \\\n",
    "    .link(CFDE.tables['file_in_collection'], on=((\n",
    "      CFDE.tables['file_in_collection'].collection_id_namespace == CFDE.tables['collection'].id_namespace\n",
    "    ) & (\n",
    "      CFDE.tables['file_in_collection'].collection_local_id == CFDE.tables['collection'].local_id\n",
    "    ))) \\\n",
    "    .link(CFDE.tables['file'], on=((\n",
    "      CFDE.tables['file'].id_namespace == CFDE.tables['file_in_collection'].file_id_namespace\n",
    "    ) & (\n",
    "      CFDE.tables['file'].local_id == CFDE.tables['file_in_collection'].file_local_id\n",
    "    ))) \\\n",
    "    .groupby(CFDE.tables['file'].id_namespace, CFDE.tables['file'].local_id) \\\n",
    "    .count()\n",
    "  value = (total_files_not_in_collection / total_files) if total_files else float('nan')\n",
    "  return {\n",
    "    'value': value,\n",
    "    'comment': f\"({total_files_not_in_collection} / {total_files})\",\n",
    "  }"
   ]
  },
  {
   "cell_type": "code",
   "execution_count": 27,
   "metadata": {},
   "outputs": [
    {
     "data": {
      "text/markdown": [
       "\n",
       "### Metric: IF there are collections: # of subjects that are part of a collection\n",
       "****\n",
       "\n",
       "\n"
      ],
      "text/plain": [
       "<IPython.core.display.Markdown object>"
      ]
     },
     "metadata": {},
     "output_type": "display_data"
    },
    {
     "data": {
      "text/markdown": [
       "\n",
       "#### Results: <span style=\"font-weight: bold; color: #4d00b1\">69.48%</span> (1366 / 1966)"
      ],
      "text/plain": [
       "<IPython.core.display.Markdown object>"
      ]
     },
     "metadata": {},
     "output_type": "display_data"
    }
   ],
   "source": [
    "@_register_metric_answer({\n",
    "  '@id': -19,\n",
    "  'name': 'IF there are collections: # of subjects that are part of a collection',\n",
    "  'description': '',\n",
    "  'detail': '',\n",
    "  'principle': '',\n",
    "})\n",
    "def _():\n",
    "  total_subjects_not_in_collection = CFDE.tables['collection'] \\\n",
    "    .link(CFDE.tables['subject_in_collection'], on=((\n",
    "      CFDE.tables['subject_in_collection'].collection_id_namespace == CFDE.tables['collection'].id_namespace\n",
    "    ) & (\n",
    "      CFDE.tables['subject_in_collection'].collection_local_id == CFDE.tables['collection'].local_id\n",
    "    ))) \\\n",
    "    .link(CFDE.tables['subject'], on=((\n",
    "      CFDE.tables['subject'].id_namespace == CFDE.tables['subject_in_collection'].subject_id_namespace\n",
    "    ) & (\n",
    "      CFDE.tables['subject'].local_id == CFDE.tables['subject_in_collection'].subject_local_id\n",
    "    ))) \\\n",
    "    .groupby(CFDE.tables['subject'].id_namespace, CFDE.tables['subject'].local_id) \\\n",
    "    .count()\n",
    "  value = (total_subjects_not_in_collection / total_subjects) if total_subjects else float('nan')\n",
    "  return {\n",
    "    'value': value,\n",
    "    'comment': f\"({total_subjects_not_in_collection} / {total_subjects})\",\n",
    "  }"
   ]
  },
  {
   "cell_type": "code",
   "execution_count": 28,
   "metadata": {},
   "outputs": [
    {
     "data": {
      "text/markdown": [
       "\n",
       "### Metric: IF there are collections: # of biosamples that are part of a collection\n",
       "****\n",
       "\n",
       "\n"
      ],
      "text/plain": [
       "<IPython.core.display.Markdown object>"
      ]
     },
     "metadata": {},
     "output_type": "display_data"
    },
    {
     "data": {
      "text/markdown": [
       "\n",
       "#### Results: <span style=\"font-weight: bold; color: #fc0002\">0.82%</span> (12002 / 1466838)"
      ],
      "text/plain": [
       "<IPython.core.display.Markdown object>"
      ]
     },
     "metadata": {},
     "output_type": "display_data"
    }
   ],
   "source": [
    "@_register_metric_answer({\n",
    "  '@id': -20,\n",
    "  'name': 'IF there are collections: # of biosamples that are part of a collection',\n",
    "  'description': '',\n",
    "  'detail': '',\n",
    "  'principle': '',\n",
    "})\n",
    "def _():\n",
    "  total_biosamples_not_in_collection = CFDE.tables['collection'] \\\n",
    "    .link(CFDE.tables['biosample_in_collection'], on=((\n",
    "      CFDE.tables['biosample_in_collection'].collection_id_namespace == CFDE.tables['collection'].id_namespace\n",
    "    ) & (\n",
    "      CFDE.tables['biosample_in_collection'].collection_local_id == CFDE.tables['collection'].local_id\n",
    "    ))) \\\n",
    "    .link(CFDE.tables['biosample'], on=((\n",
    "      CFDE.tables['biosample'].id_namespace == CFDE.tables['biosample_in_collection'].biosample_id_namespace\n",
    "    ) & (\n",
    "      CFDE.tables['biosample'].local_id == CFDE.tables['biosample_in_collection'].biosample_local_id\n",
    "    ))) \\\n",
    "    .groupby(CFDE.tables['biosample'].id_namespace, CFDE.tables['biosample'].local_id) \\\n",
    "    .count()\n",
    "  value = (total_biosamples_not_in_collection / total_biosamples) if total_biosamples else float('nan')\n",
    "  return {\n",
    "    'value': value,\n",
    "    'comment': f\"({total_biosamples_not_in_collection} / {total_biosamples})\",\n",
    "  }"
   ]
  },
  {
   "cell_type": "code",
   "execution_count": 29,
   "metadata": {},
   "outputs": [
    {
     "data": {
      "text/markdown": [
       "\n",
       "### Metric: Project associated with anatomy\n",
       "****\n",
       "\n",
       "\n"
      ],
      "text/plain": [
       "<IPython.core.display.Markdown object>"
      ]
     },
     "metadata": {},
     "output_type": "display_data"
    },
    {
     "data": {
      "text/markdown": [
       "\n",
       "#### Results: <span style=\"font-weight: bold; color: #1f00df\">87.50%</span> (14 / 16)"
      ],
      "text/plain": [
       "<IPython.core.display.Markdown object>"
      ]
     },
     "metadata": {},
     "output_type": "display_data"
    }
   ],
   "source": [
    "@_register_metric_answer({\n",
    "  '@id': -21,\n",
    "  'name': 'Project associated with anatomy',\n",
    "  'description': '',\n",
    "  'detail': '',\n",
    "  'principle': '',\n",
    "})\n",
    "def _():\n",
    "  # NOTE: does not include recursive projects\n",
    "  total_projects_associated_with_anatomy = CFDE.tables['anatomy'] \\\n",
    "    .link(CFDE.tables['biosample'], on=(\n",
    "      CFDE.tables['biosample'].anatomy == CFDE.tables['anatomy'].id\n",
    "    )) \\\n",
    "    .link(CFDE.tables['project'], on=((\n",
    "      CFDE.tables['project'].id_namespace == CFDE.tables['biosample'].project_id_namespace\n",
    "    ) & (\n",
    "      CFDE.tables['project'].local_id == CFDE.tables['biosample'].project_local_id\n",
    "    ))) \\\n",
    "    .groupby(CFDE.tables['project'].id_namespace, CFDE.tables['project'].local_id) \\\n",
    "    .count()\n",
    "  value = (total_projects_associated_with_anatomy / total_projects) if total_projects else float('nan')\n",
    "  return {\n",
    "    'value': value,\n",
    "    'comment': f\"({total_projects_associated_with_anatomy} / {total_projects})\",\n",
    "  }"
   ]
  },
  {
   "cell_type": "code",
   "execution_count": 30,
   "metadata": {},
   "outputs": [
    {
     "data": {
      "text/markdown": [
       "\n",
       "### Metric: Project associated with files\n",
       "****\n",
       "\n",
       "\n"
      ],
      "text/plain": [
       "<IPython.core.display.Markdown object>"
      ]
     },
     "metadata": {},
     "output_type": "display_data"
    },
    {
     "data": {
      "text/markdown": [
       "\n",
       "#### Results: <span style=\"font-weight: bold; color: #1f00df\">87.50%</span> (14 / 16)"
      ],
      "text/plain": [
       "<IPython.core.display.Markdown object>"
      ]
     },
     "metadata": {},
     "output_type": "display_data"
    }
   ],
   "source": [
    "@_register_metric_answer({\n",
    "  '@id': -22,\n",
    "  'name': 'Project associated with files',\n",
    "  'description': '',\n",
    "  'detail': '',\n",
    "  'principle': '',\n",
    "})\n",
    "def _():\n",
    "  # NOTE: does not include recursive projects\n",
    "  total_projects_associated_with_file = CFDE.tables['file'] \\\n",
    "    .link(CFDE.tables['project'], on=((\n",
    "      CFDE.tables['project'].id_namespace == CFDE.tables['file'].project_id_namespace\n",
    "    ) & (\n",
    "      CFDE.tables['project'].local_id == CFDE.tables['file'].project_local_id\n",
    "    ))) \\\n",
    "    .groupby(CFDE.tables['project'].id_namespace, CFDE.tables['project'].local_id) \\\n",
    "    .count()\n",
    "  value = (total_projects_associated_with_file / total_projects) if total_projects else float('nan')\n",
    "  return {\n",
    "    'value': value,\n",
    "    'comment': f\"({total_projects_associated_with_file} / {total_projects})\",\n",
    "  }"
   ]
  },
  {
   "cell_type": "code",
   "execution_count": 31,
   "metadata": {},
   "outputs": [
    {
     "data": {
      "text/markdown": [
       "\n",
       "### Metric: Project associated with data types\n",
       "****\n",
       "\n",
       "\n"
      ],
      "text/plain": [
       "<IPython.core.display.Markdown object>"
      ]
     },
     "metadata": {},
     "output_type": "display_data"
    },
    {
     "data": {
      "text/markdown": [
       "\n",
       "#### Results: <span style=\"font-weight: bold; color: #1f00df\">87.50%</span> (14 / 16)"
      ],
      "text/plain": [
       "<IPython.core.display.Markdown object>"
      ]
     },
     "metadata": {},
     "output_type": "display_data"
    }
   ],
   "source": [
    "@_register_metric_answer({\n",
    "  '@id': -23,\n",
    "  'name': 'Project associated with data types',\n",
    "  'description': '',\n",
    "  'detail': '',\n",
    "  'principle': '',\n",
    "})\n",
    "def _():\n",
    "  # NOTE: does not include recursive projects\n",
    "  total_projects_associated_with_data_type = CFDE.tables['data_type'] \\\n",
    "    .link(CFDE.tables['file'], on=(\n",
    "      CFDE.tables['file'].data_type == CFDE.tables['data_type'].id\n",
    "    )) \\\n",
    "    .link(CFDE.tables['project'], on=((\n",
    "      CFDE.tables['project'].id_namespace == CFDE.tables['file'].project_id_namespace\n",
    "    ) & (\n",
    "      CFDE.tables['project'].local_id == CFDE.tables['file'].project_local_id\n",
    "    ))) \\\n",
    "    .groupby(CFDE.tables['project'].id_namespace, CFDE.tables['project'].local_id) \\\n",
    "    .count()\n",
    "  value = (total_projects_associated_with_data_type / total_projects) if total_projects else float('nan')\n",
    "  return {\n",
    "    'value': value,\n",
    "    'comment': f\"({total_projects_associated_with_data_type} / {total_projects})\",\n",
    "  }"
   ]
  },
  {
   "cell_type": "code",
   "execution_count": 32,
   "metadata": {},
   "outputs": [
    {
     "data": {
      "text/markdown": [
       "\n",
       "### Metric: Project associated with subjects\n",
       "****\n",
       "\n",
       "\n"
      ],
      "text/plain": [
       "<IPython.core.display.Markdown object>"
      ]
     },
     "metadata": {},
     "output_type": "display_data"
    },
    {
     "data": {
      "text/markdown": [
       "\n",
       "#### Results: <span style=\"font-weight: bold; color: #df001f\">12.50%</span> (2 / 16)"
      ],
      "text/plain": [
       "<IPython.core.display.Markdown object>"
      ]
     },
     "metadata": {},
     "output_type": "display_data"
    }
   ],
   "source": [
    "@_register_metric_answer({\n",
    "  '@id': -24,\n",
    "  'name': 'Project associated with subjects',\n",
    "  'description': '',\n",
    "  'detail': '',\n",
    "  'principle': '',\n",
    "})\n",
    "def _():\n",
    "  # NOTE: does not include recursive projects\n",
    "  total_projects_associated_with_subject = CFDE.tables['subject'] \\\n",
    "    .link(CFDE.tables['project'], on=((\n",
    "      CFDE.tables['project'].id_namespace == CFDE.tables['subject'].project_id_namespace\n",
    "    ) & (\n",
    "      CFDE.tables['project'].local_id == CFDE.tables['subject'].project_local_id\n",
    "    ))) \\\n",
    "    .groupby(CFDE.tables['project'].id_namespace, CFDE.tables['project'].local_id) \\\n",
    "    .count()\n",
    "  value = (total_projects_associated_with_subject / total_projects) if total_projects else float('nan')\n",
    "  return {\n",
    "    'value': value,\n",
    "    'comment': f\"({total_projects_associated_with_subject} / {total_projects})\",\n",
    "  }"
   ]
  },
  {
   "cell_type": "code",
   "execution_count": 33,
   "metadata": {},
   "outputs": [
    {
     "data": {
      "text/markdown": [
       "\n",
       "### Metric: list of any anatomy terms in anatomy.tsv NOT associated with biosamples\n",
       "****\n",
       "\n",
       "\n"
      ],
      "text/plain": [
       "<IPython.core.display.Markdown object>"
      ]
     },
     "metadata": {},
     "output_type": "display_data"
    },
    {
     "data": {
      "text/markdown": [],
      "text/plain": [
       "<IPython.core.display.Markdown object>"
      ]
     },
     "metadata": {},
     "output_type": "display_data"
    },
    {
     "data": {
      "text/markdown": [
       "\n",
       "#### Results: <span style=\"font-weight: bold; color: #0000ff\">100.00%</span> (60 / 60)"
      ],
      "text/plain": [
       "<IPython.core.display.Markdown object>"
      ]
     },
     "metadata": {},
     "output_type": "display_data"
    }
   ],
   "source": [
    "@_register_metric_answer({\n",
    "  '@id': -25,\n",
    "  'name': 'list of any anatomy terms in anatomy.tsv NOT associated with biosamples',\n",
    "  'description': '',\n",
    "  'detail': '',\n",
    "  'principle': '',\n",
    "})\n",
    "def _():\n",
    "  # TODO: we can probably use an outer join for this..\n",
    "  used_anatomy_terms = CFDE.tables['biosample'] \\\n",
    "      .link(CFDE.tables['anatomy'], on=(\n",
    "          CFDE.tables['anatomy'].id == CFDE.tables['biosample'].anatomy\n",
    "      )) \\\n",
    "      .groupby(CFDE.tables['anatomy'].id)\n",
    "  used_anatomy_ids = {\n",
    "      anatomy['id']\n",
    "      for anatomy in used_anatomy_terms.entities()\n",
    "  }\n",
    "  unused_anatomy_terms = pd.DataFrame({\n",
    "      anatomy['id']: anatomy\n",
    "      for anatomy in CFDE.tables['anatomy'].entities()\n",
    "      if anatomy['id'] not in used_anatomy_ids\n",
    "  }).T\n",
    "  unused_anatomy_terms.to_csv('unused-anatomy-terms.tsv', sep='\\t')\n",
    "  display(Markdown('\\n'.join(f'''- {v['id']}''' for _, v in unused_anatomy_terms.iterrows())))\n",
    "  total = len(used_anatomy_ids) + unused_anatomy_terms.shape[0]\n",
    "  value = (1 - (unused_anatomy_terms.shape[0] / total)) if total else float('nan')\n",
    "  return {\n",
    "    'value': value,\n",
    "    'comment': f\"({len(used_anatomy_ids)} / {total})\",\n",
    "  }"
   ]
  },
  {
   "cell_type": "code",
   "execution_count": 34,
   "metadata": {},
   "outputs": [
    {
     "data": {
      "text/markdown": [
       "\n",
       "### Metric: list of any species terms in ncbi_taxonomy.tsv NOT associated with a subject\n",
       "****\n",
       "\n",
       "\n"
      ],
      "text/plain": [
       "<IPython.core.display.Markdown object>"
      ]
     },
     "metadata": {},
     "output_type": "display_data"
    },
    {
     "data": {
      "text/markdown": [],
      "text/plain": [
       "<IPython.core.display.Markdown object>"
      ]
     },
     "metadata": {},
     "output_type": "display_data"
    },
    {
     "data": {
      "text/markdown": [
       "\n",
       "#### Results: <span style=\"font-weight: bold; color: #0000ff\">100.00%</span> (1 / 1)"
      ],
      "text/plain": [
       "<IPython.core.display.Markdown object>"
      ]
     },
     "metadata": {},
     "output_type": "display_data"
    }
   ],
   "source": [
    "@_register_metric_answer({\n",
    "  '@id': -26,\n",
    "  'name': 'list of any species terms in ncbi_taxonomy.tsv NOT associated with a subject',\n",
    "  'description': '',\n",
    "  'detail': '',\n",
    "  'principle': '',\n",
    "})\n",
    "def _():\n",
    "  # TODO: we can probably use an outer join for this..\n",
    "  used_taxonomy_terms = CFDE.tables['subject'] \\\n",
    "      .link(CFDE.tables['subject_role_taxonomy'], on=((\n",
    "          CFDE.tables['subject_role_taxonomy'].subject_id_namespace == CFDE.tables['subject'].id_namespace\n",
    "      ) & (\n",
    "          CFDE.tables['subject_role_taxonomy'].subject_local_id == CFDE.tables['subject'].local_id\n",
    "      ))) \\\n",
    "      .link(CFDE.tables['ncbi_taxonomy'], on=(\n",
    "          CFDE.tables['ncbi_taxonomy'].id == CFDE.tables['subject_role_taxonomy'].taxonomy_id\n",
    "      )) \\\n",
    "      .groupby(CFDE.tables['ncbi_taxonomy'].id)\n",
    "  used_taxonomy_ids = {\n",
    "      taxonomy['id']\n",
    "      for taxonomy in used_taxonomy_terms.entities()\n",
    "  }\n",
    "  unused_taxonomy_terms = pd.DataFrame({\n",
    "      taxonomy['id']: taxonomy\n",
    "      for taxonomy in CFDE.tables['ncbi_taxonomy'].entities()\n",
    "      if taxonomy['id'] not in used_taxonomy_ids\n",
    "  }).T\n",
    "  unused_taxonomy_terms.to_csv('unused-taxonomy-terms.tsv', sep='\\t')\n",
    "  display(Markdown('\\n'.join(f'''- {v['id']}''' for _, v in unused_taxonomy_terms.iterrows())))\n",
    "  total = len(used_taxonomy_ids) + unused_taxonomy_terms.shape[0]\n",
    "  value = (1 - (unused_taxonomy_terms.shape[0] / total)) if total else float('nan')\n",
    "  return {\n",
    "    'value': value,\n",
    "    'comment': f\"({len(used_taxonomy_ids)} / {total})\",\n",
    "  }"
   ]
  },
  {
   "cell_type": "code",
   "execution_count": 35,
   "metadata": {},
   "outputs": [
    {
     "data": {
      "text/markdown": [
       "\n",
       "### Metric: list of any assay terms in assay_type.tsv NOT associated with files\n",
       "****\n",
       "\n",
       "\n"
      ],
      "text/plain": [
       "<IPython.core.display.Markdown object>"
      ]
     },
     "metadata": {},
     "output_type": "display_data"
    },
    {
     "data": {
      "text/markdown": [
       "- OBI:0200198"
      ],
      "text/plain": [
       "<IPython.core.display.Markdown object>"
      ]
     },
     "metadata": {},
     "output_type": "display_data"
    },
    {
     "data": {
      "text/markdown": [
       "\n",
       "#### Results: <span style=\"font-weight: bold; color: #0900f5\">96.43%</span> (27 / 28)"
      ],
      "text/plain": [
       "<IPython.core.display.Markdown object>"
      ]
     },
     "metadata": {},
     "output_type": "display_data"
    }
   ],
   "source": [
    "@_register_metric_answer({\n",
    "  '@id': -27,\n",
    "  'name': 'list of any assay terms in assay_type.tsv NOT associated with files',\n",
    "  'description': '',\n",
    "  'detail': '',\n",
    "  'principle': '',\n",
    "})\n",
    "def _():\n",
    "  used_assay_type_terms = CFDE.tables['file'] \\\n",
    "      .link(CFDE.tables['assay_type'], on=(\n",
    "          CFDE.tables['assay_type'].id == CFDE.tables['file'].assay_type\n",
    "      )) \\\n",
    "      .groupby(CFDE.tables['assay_type'].id)\n",
    "  used_assay_type_ids = {\n",
    "      assay_type['id']\n",
    "      for assay_type in used_assay_type_terms.entities()\n",
    "  }\n",
    "  unused_assay_type_terms = pd.DataFrame({\n",
    "      assay_type['id']: assay_type\n",
    "      for assay_type in CFDE.tables['assay_type'].entities()\n",
    "      if assay_type['id'] not in used_assay_type_ids\n",
    "  }).T\n",
    "  unused_assay_type_terms.to_csv('unused-assay-type-terms.tsv', sep='\\t')\n",
    "  display(Markdown('\\n'.join(f'''- {v['id']}''' for _, v in unused_assay_type_terms.iterrows())))\n",
    "  total = len(used_assay_type_ids) + unused_assay_type_terms.shape[0]\n",
    "  value = (1 - (unused_assay_type_terms.shape[0] / total)) if total else float('nan')\n",
    "  return {\n",
    "    'value': value,\n",
    "    'comment': f\"({len(used_assay_type_ids)} / {total})\",\n",
    "  }"
   ]
  },
  {
   "cell_type": "code",
   "execution_count": 36,
   "metadata": {},
   "outputs": [
    {
     "data": {
      "text/markdown": [
       "\n",
       "### Metric: list of any format terms in file_format.tsv NOT associated with files\n",
       "****\n",
       "\n",
       "\n"
      ],
      "text/plain": [
       "<IPython.core.display.Markdown object>"
      ]
     },
     "metadata": {},
     "output_type": "display_data"
    },
    {
     "data": {
      "text/markdown": [
       "- format:3989"
      ],
      "text/plain": [
       "<IPython.core.display.Markdown object>"
      ]
     },
     "metadata": {},
     "output_type": "display_data"
    },
    {
     "data": {
      "text/markdown": [
       "\n",
       "#### Results: <span style=\"font-weight: bold; color: #3f00bf\">75.00%</span> (3 / 4)"
      ],
      "text/plain": [
       "<IPython.core.display.Markdown object>"
      ]
     },
     "metadata": {},
     "output_type": "display_data"
    }
   ],
   "source": [
    "@_register_metric_answer({\n",
    "  '@id': -28,\n",
    "  'name': 'list of any format terms in file_format.tsv NOT associated with files',\n",
    "  'description': '',\n",
    "  'detail': '',\n",
    "  'principle': '',\n",
    "})\n",
    "def _():\n",
    "  used_file_format_terms = CFDE.tables['file'] \\\n",
    "      .link(CFDE.tables['file_format'], on=(\n",
    "          CFDE.tables['file_format'].id == CFDE.tables['file'].file_format\n",
    "      )) \\\n",
    "      .groupby(CFDE.tables['file_format'].id)\n",
    "  used_file_format_ids = {\n",
    "      file_format['id']\n",
    "      for file_format in used_file_format_terms.entities()\n",
    "  }\n",
    "  unused_file_format_terms = pd.DataFrame({\n",
    "      file_format['id']: file_format\n",
    "      for file_format in CFDE.tables['file_format'].entities()\n",
    "      if file_format['id'] not in used_file_format_ids\n",
    "  }).T\n",
    "  unused_file_format_terms.to_csv('unused-file-format-terms.tsv', sep='\\t')\n",
    "  display(Markdown('\\n'.join(f'''- {v['id']}''' for _, v in unused_file_format_terms.iterrows())))\n",
    "  total = len(used_file_format_ids) + unused_file_format_terms.shape[0]\n",
    "  value = (1 - (unused_file_format_terms.shape[0] / total)) if total else float('nan')\n",
    "  return {\n",
    "    'value': value,\n",
    "    'comment': f\"({len(used_file_format_ids)} / {total})\",\n",
    "  }"
   ]
  },
  {
   "cell_type": "code",
   "execution_count": 37,
   "metadata": {},
   "outputs": [
    {
     "data": {
      "text/markdown": [
       "\n",
       "### Metric: list of any data type terms in data_type.tsv NOT associated with files\n",
       "****\n",
       "\n",
       "\n"
      ],
      "text/plain": [
       "<IPython.core.display.Markdown object>"
      ]
     },
     "metadata": {},
     "output_type": "display_data"
    },
    {
     "data": {
      "text/markdown": [],
      "text/plain": [
       "<IPython.core.display.Markdown object>"
      ]
     },
     "metadata": {},
     "output_type": "display_data"
    },
    {
     "data": {
      "text/markdown": [
       "\n",
       "#### Results: <span style=\"font-weight: bold; color: #0000ff\">100.00%</span> (8 / 8)"
      ],
      "text/plain": [
       "<IPython.core.display.Markdown object>"
      ]
     },
     "metadata": {},
     "output_type": "display_data"
    }
   ],
   "source": [
    "@_register_metric_answer({\n",
    "  '@id': -29,\n",
    "  'name': 'list of any data type terms in data_type.tsv NOT associated with files',\n",
    "  'description': '',\n",
    "  'detail': '',\n",
    "  'principle': '',\n",
    "})\n",
    "def _():\n",
    "  used_data_type_terms = CFDE.tables['file'] \\\n",
    "      .link(CFDE.tables['data_type'], on=(\n",
    "          CFDE.tables['data_type'].id == CFDE.tables['file'].data_type\n",
    "      )) \\\n",
    "      .groupby(CFDE.tables['data_type'].id)\n",
    "  used_data_type_ids = {\n",
    "      data_type['id']\n",
    "      for data_type in used_data_type_terms.entities()\n",
    "  }\n",
    "  unused_data_type_terms = pd.DataFrame({\n",
    "      data_type['id']: data_type\n",
    "      for data_type in CFDE.tables['data_type'].entities()\n",
    "      if data_type['id'] not in used_data_type_ids\n",
    "  }).T\n",
    "  unused_data_type_terms.to_csv('unused-data-type-terms.tsv', sep='\\t')\n",
    "  display(Markdown('\\n'.join(f'''- {v['id']}''' for _, v in unused_data_type_terms.iterrows())))\n",
    "  total = len(used_data_type_ids) + unused_data_type_terms.shape[0]\n",
    "  value = (1 - (unused_data_type_terms.shape[0] / total)) if total else float('nan')\n",
    "  return {\n",
    "    'value': value,\n",
    "    'comment': f\"({len(used_data_type_ids)} / {total})\",\n",
    "  }"
   ]
  },
  {
   "cell_type": "code",
   "execution_count": 38,
   "metadata": {},
   "outputs": [
    {
     "data": {
      "text/markdown": [
       "\n",
       "### Metric ([145](https://fairshake.cloud/metric/145)): Landing Page\n",
       "**A landing page exists and is accessible for the identifiers**\n",
       "\n",
       "Checks to make sure the persistent_id is resolvable with a HEAD request. if it is not http/https it is assumed to be an identifiers.org-resolvable CURIE. note that this is still error prone, some identifier websites do not follow HTTP standards and may not report 404s with ids that aren't found.\n"
      ],
      "text/plain": [
       "<IPython.core.display.Markdown object>"
      ]
     },
     "metadata": {},
     "output_type": "display_data"
    },
    {
     "data": {
      "text/html": [
       "<div>\n",
       "<style scoped>\n",
       "    .dataframe tbody tr th:only-of-type {\n",
       "        vertical-align: middle;\n",
       "    }\n",
       "\n",
       "    .dataframe tbody tr th {\n",
       "        vertical-align: top;\n",
       "    }\n",
       "\n",
       "    .dataframe thead th {\n",
       "        text-align: right;\n",
       "    }\n",
       "</style>\n",
       "<table border=\"1\" class=\"dataframe\">\n",
       "  <thead>\n",
       "    <tr style=\"text-align: right;\">\n",
       "      <th></th>\n",
       "      <th></th>\n",
       "      <th>value</th>\n",
       "      <th>comment</th>\n",
       "    </tr>\n",
       "  </thead>\n",
       "  <tbody>\n",
       "    <tr>\n",
       "      <th rowspan=\"11\" valign=\"top\">https://www.lincsproject.org/</th>\n",
       "      <th>LDS-1505</th>\n",
       "      <td>NaN</td>\n",
       "      <td>Skipped</td>\n",
       "    </tr>\n",
       "    <tr>\n",
       "      <th>LDS-1110</th>\n",
       "      <td>NaN</td>\n",
       "      <td>Skipped</td>\n",
       "    </tr>\n",
       "    <tr>\n",
       "      <th>LDS-1507</th>\n",
       "      <td>NaN</td>\n",
       "      <td>Skipped</td>\n",
       "    </tr>\n",
       "    <tr>\n",
       "      <th>LDS-1190</th>\n",
       "      <td>NaN</td>\n",
       "      <td>Skipped</td>\n",
       "    </tr>\n",
       "    <tr>\n",
       "      <th>LDS-1260</th>\n",
       "      <td>NaN</td>\n",
       "      <td>Skipped</td>\n",
       "    </tr>\n",
       "    <tr>\n",
       "      <th>...</th>\n",
       "      <td>...</td>\n",
       "      <td>...</td>\n",
       "    </tr>\n",
       "    <tr>\n",
       "      <th>MDD_ATACseq_Level3</th>\n",
       "      <td>NaN</td>\n",
       "      <td>Skipped</td>\n",
       "    </tr>\n",
       "    <tr>\n",
       "      <th>MDD_IF_Level3</th>\n",
       "      <td>NaN</td>\n",
       "      <td>Skipped</td>\n",
       "    </tr>\n",
       "    <tr>\n",
       "      <th>MDD_RPPA_Level3</th>\n",
       "      <td>NaN</td>\n",
       "      <td>Skipped</td>\n",
       "    </tr>\n",
       "    <tr>\n",
       "      <th>MDD_cycIF_Level3</th>\n",
       "      <td>NaN</td>\n",
       "      <td>Skipped</td>\n",
       "    </tr>\n",
       "    <tr>\n",
       "      <th>MDD_L1000_Level3</th>\n",
       "      <td>NaN</td>\n",
       "      <td>Skipped</td>\n",
       "    </tr>\n",
       "  </tbody>\n",
       "</table>\n",
       "<p>1454802 rows × 2 columns</p>\n",
       "</div>"
      ],
      "text/plain": [
       "                                                 value  comment\n",
       "https://www.lincsproject.org/ LDS-1505             NaN  Skipped\n",
       "                              LDS-1110             NaN  Skipped\n",
       "                              LDS-1507             NaN  Skipped\n",
       "                              LDS-1190             NaN  Skipped\n",
       "                              LDS-1260             NaN  Skipped\n",
       "...                                                ...      ...\n",
       "                              MDD_ATACseq_Level3   NaN  Skipped\n",
       "                              MDD_IF_Level3        NaN  Skipped\n",
       "                              MDD_RPPA_Level3      NaN  Skipped\n",
       "                              MDD_cycIF_Level3     NaN  Skipped\n",
       "                              MDD_L1000_Level3     NaN  Skipped\n",
       "\n",
       "[1454802 rows x 2 columns]"
      ]
     },
     "metadata": {},
     "output_type": "display_data"
    },
    {
     "data": {
      "text/html": [
       "<div>\n",
       "<style scoped>\n",
       "    .dataframe tbody tr th:only-of-type {\n",
       "        vertical-align: middle;\n",
       "    }\n",
       "\n",
       "    .dataframe tbody tr th {\n",
       "        vertical-align: top;\n",
       "    }\n",
       "\n",
       "    .dataframe thead th {\n",
       "        text-align: right;\n",
       "    }\n",
       "</style>\n",
       "<table border=\"1\" class=\"dataframe\">\n",
       "  <thead>\n",
       "    <tr style=\"text-align: right;\">\n",
       "      <th></th>\n",
       "      <th>value</th>\n",
       "      <th>comment</th>\n",
       "    </tr>\n",
       "  </thead>\n",
       "  <tbody>\n",
       "    <tr>\n",
       "      <th>count</th>\n",
       "      <td>0</td>\n",
       "      <td>1454802</td>\n",
       "    </tr>\n",
       "    <tr>\n",
       "      <th>unique</th>\n",
       "      <td>0</td>\n",
       "      <td>1</td>\n",
       "    </tr>\n",
       "    <tr>\n",
       "      <th>top</th>\n",
       "      <td>NaN</td>\n",
       "      <td>Skipped</td>\n",
       "    </tr>\n",
       "    <tr>\n",
       "      <th>freq</th>\n",
       "      <td>NaN</td>\n",
       "      <td>1454802</td>\n",
       "    </tr>\n",
       "  </tbody>\n",
       "</table>\n",
       "</div>"
      ],
      "text/plain": [
       "       value  comment\n",
       "count      0  1454802\n",
       "unique     0        1\n",
       "top      NaN  Skipped\n",
       "freq     NaN  1454802"
      ]
     },
     "metadata": {},
     "output_type": "display_data"
    },
    {
     "data": {
      "text/html": [
       "<div>\n",
       "<style scoped>\n",
       "    .dataframe tbody tr th:only-of-type {\n",
       "        vertical-align: middle;\n",
       "    }\n",
       "\n",
       "    .dataframe tbody tr th {\n",
       "        vertical-align: top;\n",
       "    }\n",
       "\n",
       "    .dataframe thead th {\n",
       "        text-align: right;\n",
       "    }\n",
       "</style>\n",
       "<table border=\"1\" class=\"dataframe\">\n",
       "  <thead>\n",
       "    <tr style=\"text-align: right;\">\n",
       "      <th></th>\n",
       "      <th>comment</th>\n",
       "    </tr>\n",
       "  </thead>\n",
       "  <tbody>\n",
       "    <tr>\n",
       "      <th>Skipped</th>\n",
       "      <td>1454802</td>\n",
       "    </tr>\n",
       "  </tbody>\n",
       "</table>\n",
       "</div>"
      ],
      "text/plain": [
       "         comment\n",
       "Skipped  1454802"
      ]
     },
     "metadata": {},
     "output_type": "display_data"
    },
    {
     "data": {
      "text/markdown": [
       "\n",
       "#### Results: <span style=\"font-weight: bold; color: ##666666\">NaN</span> (based on status_code reports via HEAD)"
      ],
      "text/plain": [
       "<IPython.core.display.Markdown object>"
      ]
     },
     "metadata": {},
     "output_type": "display_data"
    }
   ],
   "source": [
    "@_register_metric_answer({\n",
    "  '@id': 145,\n",
    "  'name': 'Landing Page',\n",
    "  'description': 'A landing page exists and is accessible for the identifiers',\n",
    "  'detail': '''Checks to make sure the persistent_id is resolvable with a HEAD request. if it is not http/https it is assumed to be an identifiers.org-resolvable CURIE. note that this is still error prone, some identifier websites do not follow HTTP standards and may not report 404s with ids that aren't found.''',\n",
    "  'principle': 'Findable',\n",
    "})\n",
    "def _():\n",
    "  results = {}\n",
    "  for file in CFDE.tables['file'].entities():\n",
    "    file_id = (file['id_namespace'], file['local_id'])\n",
    "    results[file_id] = {}\n",
    "    persistent_id = file.get('persistent_id')\n",
    "    if not persistent_id:\n",
    "      results[file_id]['value'] = 0\n",
    "      results[file_id]['comment'] = \"No persistent id present\"\n",
    "      continue\n",
    "    if not re.match(r'^https?://', persistent_id):\n",
    "      persistent_id = 'https://identifiers.org/{}'.format(persistent_id)\n",
    "    results[file_id]['value'] = float('nan')\n",
    "    results[file_id]['comment'] = \"Skipped\"\n",
    "  results = pd.DataFrame(results).T\n",
    "  results.to_csv('landing-pages.tsv', sep='\\t')\n",
    "  display(results)\n",
    "  display(results.describe())\n",
    "  display(results['comment'].value_counts().to_frame('comment'))\n",
    "  return {\n",
    "    'value': results['value'].mean(),\n",
    "    'comment': f'(based on status_code reports via HEAD)',\n",
    "  }"
   ]
  },
  {
   "cell_type": "markdown",
   "metadata": {},
   "source": [
    "## Step 4. Review results\n",
    "\n",
    "With the assessment complete, we're ready to review the results."
   ]
  },
  {
   "cell_type": "markdown",
   "metadata": {},
   "source": [
    "### Table 3. A simple look at the structure of the answers dataframe (joined with metrics for readability of metrics)\n",
    "\n",
    " - `name` this is the human readable name of the metric\n",
    " - `principle` this is the F.A.I.R category of the metric\n",
    " - `value` represents the quantitative value assigned to the given answer. It ranges between 0.0 and 1.0, 0.0 representing complete lack of *compliance* with a metric, and 1.0 representing complete satisfaction of a metric.\n",
    " - `comment` is a human-description describing why the `value` is what it is."
   ]
  },
  {
   "cell_type": "code",
   "execution_count": 39,
   "metadata": {},
   "outputs": [
    {
     "data": {
      "text/html": [
       "<div>\n",
       "<style scoped>\n",
       "    .dataframe tbody tr th:only-of-type {\n",
       "        vertical-align: middle;\n",
       "    }\n",
       "\n",
       "    .dataframe tbody tr th {\n",
       "        vertical-align: top;\n",
       "    }\n",
       "\n",
       "    .dataframe thead th {\n",
       "        text-align: right;\n",
       "    }\n",
       "</style>\n",
       "<table border=\"1\" class=\"dataframe\">\n",
       "  <thead>\n",
       "    <tr style=\"text-align: right;\">\n",
       "      <th></th>\n",
       "      <th>name</th>\n",
       "      <th>principle</th>\n",
       "      <th>value</th>\n",
       "      <th>comment</th>\n",
       "    </tr>\n",
       "  </thead>\n",
       "  <tbody>\n",
       "    <tr>\n",
       "      <th>1</th>\n",
       "      <td>Persistent identifier</td>\n",
       "      <td>Findable</td>\n",
       "      <td>0.000000</td>\n",
       "      <td>(0 / 1454802)</td>\n",
       "    </tr>\n",
       "    <tr>\n",
       "      <th>19</th>\n",
       "      <td>IF there are collections: # of files that are ...</td>\n",
       "      <td></td>\n",
       "      <td>0.000320</td>\n",
       "      <td>(465 / 1454802)</td>\n",
       "    </tr>\n",
       "    <tr>\n",
       "      <th>21</th>\n",
       "      <td>IF there are collections: # of biosamples that...</td>\n",
       "      <td></td>\n",
       "      <td>0.008182</td>\n",
       "      <td>(12002 / 1466838)</td>\n",
       "    </tr>\n",
       "    <tr>\n",
       "      <th>25</th>\n",
       "      <td>Project associated with subjects</td>\n",
       "      <td></td>\n",
       "      <td>0.125000</td>\n",
       "      <td>(2 / 16)</td>\n",
       "    </tr>\n",
       "    <tr>\n",
       "      <th>20</th>\n",
       "      <td>IF there are collections: # of subjects that a...</td>\n",
       "      <td></td>\n",
       "      <td>0.694812</td>\n",
       "      <td>(1366 / 1966)</td>\n",
       "    </tr>\n",
       "    <tr>\n",
       "      <th>29</th>\n",
       "      <td>list of any format terms in file_format.tsv NO...</td>\n",
       "      <td></td>\n",
       "      <td>0.750000</td>\n",
       "      <td>(3 / 4)</td>\n",
       "    </tr>\n",
       "    <tr>\n",
       "      <th>23</th>\n",
       "      <td>Project associated with files</td>\n",
       "      <td></td>\n",
       "      <td>0.875000</td>\n",
       "      <td>(14 / 16)</td>\n",
       "    </tr>\n",
       "    <tr>\n",
       "      <th>22</th>\n",
       "      <td>Project associated with anatomy</td>\n",
       "      <td></td>\n",
       "      <td>0.875000</td>\n",
       "      <td>(14 / 16)</td>\n",
       "    </tr>\n",
       "    <tr>\n",
       "      <th>24</th>\n",
       "      <td>Project associated with data types</td>\n",
       "      <td></td>\n",
       "      <td>0.875000</td>\n",
       "      <td>(14 / 16)</td>\n",
       "    </tr>\n",
       "    <tr>\n",
       "      <th>0</th>\n",
       "      <td>Metadata conformance</td>\n",
       "      <td>Findable</td>\n",
       "      <td>0.931303</td>\n",
       "      <td>(See metadata coverage for more info)</td>\n",
       "    </tr>\n",
       "    <tr>\n",
       "      <th>28</th>\n",
       "      <td>list of any assay terms in assay_type.tsv NOT ...</td>\n",
       "      <td></td>\n",
       "      <td>0.964286</td>\n",
       "      <td>(27 / 28)</td>\n",
       "    </tr>\n",
       "    <tr>\n",
       "      <th>5</th>\n",
       "      <td>ratio files are associate with anatomy term</td>\n",
       "      <td></td>\n",
       "      <td>0.989608</td>\n",
       "      <td>(1439684 / 1454802)</td>\n",
       "    </tr>\n",
       "    <tr>\n",
       "      <th>12</th>\n",
       "      <td>ratio biosamples are associated with an anatom...</td>\n",
       "      <td></td>\n",
       "      <td>0.989644</td>\n",
       "      <td>(1451648 / 1466838)</td>\n",
       "    </tr>\n",
       "    <tr>\n",
       "      <th>18</th>\n",
       "      <td>ratio subjects associated with a file</td>\n",
       "      <td></td>\n",
       "      <td>0.996948</td>\n",
       "      <td>(1960 / 1966)</td>\n",
       "    </tr>\n",
       "    <tr>\n",
       "      <th>13</th>\n",
       "      <td>ratio biosamples are associated with an assay ...</td>\n",
       "      <td></td>\n",
       "      <td>0.999737</td>\n",
       "      <td>(1466452 / 1466838)</td>\n",
       "    </tr>\n",
       "    <tr>\n",
       "      <th>11</th>\n",
       "      <td>ratio biosamples are associated with a file</td>\n",
       "      <td></td>\n",
       "      <td>0.999882</td>\n",
       "      <td>(1466665 / 1466838)</td>\n",
       "    </tr>\n",
       "    <tr>\n",
       "      <th>4</th>\n",
       "      <td>ratio files are associated with assaytype term</td>\n",
       "      <td></td>\n",
       "      <td>0.999998</td>\n",
       "      <td>(1454799 / 1454802)</td>\n",
       "    </tr>\n",
       "    <tr>\n",
       "      <th>27</th>\n",
       "      <td>list of any species terms in ncbi_taxonomy.tsv...</td>\n",
       "      <td></td>\n",
       "      <td>1.000000</td>\n",
       "      <td>(1 / 1)</td>\n",
       "    </tr>\n",
       "    <tr>\n",
       "      <th>26</th>\n",
       "      <td>list of any anatomy terms in anatomy.tsv NOT a...</td>\n",
       "      <td></td>\n",
       "      <td>1.000000</td>\n",
       "      <td>(60 / 60)</td>\n",
       "    </tr>\n",
       "    <tr>\n",
       "      <th>15</th>\n",
       "      <td>ratio subjects have subject granularity</td>\n",
       "      <td></td>\n",
       "      <td>1.000000</td>\n",
       "      <td>(1966 / 1966)</td>\n",
       "    </tr>\n",
       "    <tr>\n",
       "      <th>16</th>\n",
       "      <td>ratio subjects have taxonomic role</td>\n",
       "      <td></td>\n",
       "      <td>1.000000</td>\n",
       "      <td>(1966 / 1966)</td>\n",
       "    </tr>\n",
       "    <tr>\n",
       "      <th>14</th>\n",
       "      <td>ratio subjects are associated with a taxonomy</td>\n",
       "      <td></td>\n",
       "      <td>1.000000</td>\n",
       "      <td>(1966 / 1966)</td>\n",
       "    </tr>\n",
       "    <tr>\n",
       "      <th>10</th>\n",
       "      <td>ratio biosamples are associated with a subject</td>\n",
       "      <td></td>\n",
       "      <td>1.000000</td>\n",
       "      <td>(1466838 / 1466838)</td>\n",
       "    </tr>\n",
       "    <tr>\n",
       "      <th>9</th>\n",
       "      <td>ratio biosamples are associated with a species...</td>\n",
       "      <td></td>\n",
       "      <td>1.000000</td>\n",
       "      <td>(1466838 / 1466838)</td>\n",
       "    </tr>\n",
       "    <tr>\n",
       "      <th>8</th>\n",
       "      <td>ratio files are associated with a subject_role...</td>\n",
       "      <td></td>\n",
       "      <td>1.000000</td>\n",
       "      <td>(1454802 / 1454802)</td>\n",
       "    </tr>\n",
       "    <tr>\n",
       "      <th>7</th>\n",
       "      <td>ratio files are associated with a subject</td>\n",
       "      <td></td>\n",
       "      <td>1.000000</td>\n",
       "      <td>(1454802 / 1454802)</td>\n",
       "    </tr>\n",
       "    <tr>\n",
       "      <th>6</th>\n",
       "      <td>ratio files are associated with a biosample</td>\n",
       "      <td></td>\n",
       "      <td>1.000000</td>\n",
       "      <td>(1454802 / 1454802)</td>\n",
       "    </tr>\n",
       "    <tr>\n",
       "      <th>3</th>\n",
       "      <td>ratio files are associated with file format term</td>\n",
       "      <td></td>\n",
       "      <td>1.000000</td>\n",
       "      <td>(1454802 / 1454802)</td>\n",
       "    </tr>\n",
       "    <tr>\n",
       "      <th>2</th>\n",
       "      <td>ratio files are associated with data type term</td>\n",
       "      <td></td>\n",
       "      <td>1.000000</td>\n",
       "      <td>(1454802 / 1454802)</td>\n",
       "    </tr>\n",
       "    <tr>\n",
       "      <th>17</th>\n",
       "      <td>ratio subjects associated with a biosample</td>\n",
       "      <td></td>\n",
       "      <td>1.000000</td>\n",
       "      <td>(1966 / 1966)</td>\n",
       "    </tr>\n",
       "    <tr>\n",
       "      <th>30</th>\n",
       "      <td>list of any data type terms in data_type.tsv N...</td>\n",
       "      <td></td>\n",
       "      <td>1.000000</td>\n",
       "      <td>(8 / 8)</td>\n",
       "    </tr>\n",
       "    <tr>\n",
       "      <th>31</th>\n",
       "      <td>Landing Page</td>\n",
       "      <td>Findable</td>\n",
       "      <td>NaN</td>\n",
       "      <td>(based on status_code reports via HEAD)</td>\n",
       "    </tr>\n",
       "  </tbody>\n",
       "</table>\n",
       "</div>"
      ],
      "text/plain": [
       "                                                 name principle     value  \\\n",
       "1                               Persistent identifier  Findable  0.000000   \n",
       "19  IF there are collections: # of files that are ...            0.000320   \n",
       "21  IF there are collections: # of biosamples that...            0.008182   \n",
       "25                   Project associated with subjects            0.125000   \n",
       "20  IF there are collections: # of subjects that a...            0.694812   \n",
       "29  list of any format terms in file_format.tsv NO...            0.750000   \n",
       "23                      Project associated with files            0.875000   \n",
       "22                    Project associated with anatomy            0.875000   \n",
       "24                 Project associated with data types            0.875000   \n",
       "0                                Metadata conformance  Findable  0.931303   \n",
       "28  list of any assay terms in assay_type.tsv NOT ...            0.964286   \n",
       "5         ratio files are associate with anatomy term            0.989608   \n",
       "12  ratio biosamples are associated with an anatom...            0.989644   \n",
       "18              ratio subjects associated with a file            0.996948   \n",
       "13  ratio biosamples are associated with an assay ...            0.999737   \n",
       "11        ratio biosamples are associated with a file            0.999882   \n",
       "4      ratio files are associated with assaytype term            0.999998   \n",
       "27  list of any species terms in ncbi_taxonomy.tsv...            1.000000   \n",
       "26  list of any anatomy terms in anatomy.tsv NOT a...            1.000000   \n",
       "15            ratio subjects have subject granularity            1.000000   \n",
       "16                 ratio subjects have taxonomic role            1.000000   \n",
       "14      ratio subjects are associated with a taxonomy            1.000000   \n",
       "10     ratio biosamples are associated with a subject            1.000000   \n",
       "9   ratio biosamples are associated with a species...            1.000000   \n",
       "8   ratio files are associated with a subject_role...            1.000000   \n",
       "7           ratio files are associated with a subject            1.000000   \n",
       "6         ratio files are associated with a biosample            1.000000   \n",
       "3    ratio files are associated with file format term            1.000000   \n",
       "2      ratio files are associated with data type term            1.000000   \n",
       "17         ratio subjects associated with a biosample            1.000000   \n",
       "30  list of any data type terms in data_type.tsv N...            1.000000   \n",
       "31                                       Landing Page  Findable       NaN   \n",
       "\n",
       "                                    comment  \n",
       "1                             (0 / 1454802)  \n",
       "19                          (465 / 1454802)  \n",
       "21                        (12002 / 1466838)  \n",
       "25                                 (2 / 16)  \n",
       "20                            (1366 / 1966)  \n",
       "29                                  (3 / 4)  \n",
       "23                                (14 / 16)  \n",
       "22                                (14 / 16)  \n",
       "24                                (14 / 16)  \n",
       "0     (See metadata coverage for more info)  \n",
       "28                                (27 / 28)  \n",
       "5                       (1439684 / 1454802)  \n",
       "12                      (1451648 / 1466838)  \n",
       "18                            (1960 / 1966)  \n",
       "13                      (1466452 / 1466838)  \n",
       "11                      (1466665 / 1466838)  \n",
       "4                       (1454799 / 1454802)  \n",
       "27                                  (1 / 1)  \n",
       "26                                (60 / 60)  \n",
       "15                            (1966 / 1966)  \n",
       "16                            (1966 / 1966)  \n",
       "14                            (1966 / 1966)  \n",
       "10                      (1466838 / 1466838)  \n",
       "9                       (1466838 / 1466838)  \n",
       "8                       (1454802 / 1454802)  \n",
       "7                       (1454802 / 1454802)  \n",
       "6                       (1454802 / 1454802)  \n",
       "3                       (1454802 / 1454802)  \n",
       "2                       (1454802 / 1454802)  \n",
       "17                            (1966 / 1966)  \n",
       "30                                  (8 / 8)  \n",
       "31  (based on status_code reports via HEAD)  "
      ]
     },
     "execution_count": 39,
     "metadata": {},
     "output_type": "execute_result"
    }
   ],
   "source": [
    "df_metrics = pd.DataFrame(rubric['metrics']).T\n",
    "df_answers = pd.merge(\n",
    "    left=pd.DataFrame(answers), left_on='metric',\n",
    "    right=df_metrics[['name', 'principle']], right_index=True,\n",
    ")[['name', 'principle', 'value', 'comment']].sort_values('value')\n",
    "df_answers.to_csv('summary.tsv', sep='\\t')\n",
    "df_answers"
   ]
  },
  {
   "cell_type": "markdown",
   "metadata": {},
   "source": [
    "## Step 5. FAIRshake\n",
    "\n",
    "Our assessment is now ready to be registered with FAIRshake."
   ]
  },
  {
   "cell_type": "code",
   "execution_count": 40,
   "metadata": {},
   "outputs": [],
   "source": [
    "def render_insignia(scores, metrics):\n",
    "    from IPython.display import display, HTML\n",
    "    import uuid, json\n",
    "    id = str(uuid.uuid4())\n",
    "    display(HTML(f'''\n",
    "        <div id={repr(id)} style=\"width: 100px; height: 100px;\"></div>\n",
    "        <script>\n",
    "        require(['https://fairshake.cloud/v2/static/scripts/insignia.js'], function(insignia) {{\n",
    "            var metrics = {json.dumps(metrics)}\n",
    "            var el = document.getElementById({repr(id)})\n",
    "            for (var i = 0; i < el.children.length; i++) el.removeChild(el.children[i])\n",
    "            insignia.build_svg(el,\n",
    "                {json.dumps(scores)},\n",
    "                {{ tooltips: function (rubric, metric, score) {{ return `${{(score*100).toFixed(0)}}%<br />${{metrics[metric]}}` }} }}\n",
    "            )\n",
    "        }})\n",
    "        </script>\n",
    "    '''), display_id=id)\n",
    "\n"
   ]
  },
  {
   "cell_type": "markdown",
   "metadata": {},
   "source": [
    "### Figure 1. FAIRshake Insignia\n",
    "\n",
    "The insignia compactly shows the results of the assessments; hovering over each square shows what metric was being evaluated. Blue means high satisfaction while red means low satisfaction."
   ]
  },
  {
   "cell_type": "code",
   "execution_count": 41,
   "metadata": {},
   "outputs": [
    {
     "data": {
      "text/html": [
       "\n",
       "        <div id='29a87953-c579-41a2-ad19-9fa4d0fa3575' style=\"width: 100px; height: 100px;\"></div>\n",
       "        <script>\n",
       "        require(['https://fairshake.cloud/v2/static/scripts/insignia.js'], function(insignia) {\n",
       "            var metrics = {\"1\": \"Persistent identifier\", \"19\": \"IF there are collections: # of files that are part of a collection\", \"21\": \"IF there are collections: # of biosamples that are part of a collection\", \"25\": \"Project associated with subjects\", \"20\": \"IF there are collections: # of subjects that are part of a collection\", \"29\": \"list of any format terms in file_format.tsv NOT associated with files\", \"23\": \"Project associated with files\", \"22\": \"Project associated with anatomy\", \"24\": \"Project associated with data types\", \"0\": \"Metadata conformance\", \"28\": \"list of any assay terms in assay_type.tsv NOT associated with files\", \"5\": \"ratio files are associate with anatomy term\", \"12\": \"ratio biosamples are associated with an anatomy term\", \"18\": \"ratio subjects associated with a file\", \"13\": \"ratio biosamples are associated with an assay term\", \"11\": \"ratio biosamples are associated with a file\", \"4\": \"ratio files are associated with assaytype term\", \"27\": \"list of any species terms in ncbi_taxonomy.tsv NOT associated with a subject\", \"26\": \"list of any anatomy terms in anatomy.tsv NOT associated with biosamples\", \"15\": \"ratio subjects have subject granularity\", \"16\": \"ratio subjects have taxonomic role\", \"14\": \"ratio subjects are associated with a taxonomy\", \"10\": \"ratio biosamples are associated with a subject\", \"9\": \"ratio biosamples are associated with a species term (NCBI Taxon)\", \"8\": \"ratio files are associated with a subject_role_taxonomy\", \"7\": \"ratio files are associated with a subject\", \"6\": \"ratio files are associated with a biosample\", \"3\": \"ratio files are associated with file format term\", \"2\": \"ratio files are associated with data type term\", \"17\": \"ratio subjects associated with a biosample\", \"30\": \"list of any data type terms in data_type.tsv NOT associated with files\", \"31\": \"Landing Page\"}\n",
       "            var el = document.getElementById('29a87953-c579-41a2-ad19-9fa4d0fa3575')\n",
       "            for (var i = 0; i < el.children.length; i++) el.removeChild(el.children[i])\n",
       "            insignia.build_svg(el,\n",
       "                {\"0\": {\"1\": 0.0, \"19\": 0.0003196311250603175, \"21\": 0.008182225985418977, \"25\": 0.125, \"20\": 0.6948118006103764, \"29\": 0.75, \"23\": 0.875, \"22\": 0.875, \"24\": 0.875, \"0\": 0.9313033829437669, \"28\": 0.9642857142857143, \"5\": 0.98960820785234, \"12\": 0.9896443915415336, \"18\": 0.9969481180061037, \"13\": 0.9997368489226486, \"11\": 0.9998820592321715, \"4\": 0.9999979378637093, \"27\": 1.0, \"26\": 1.0, \"15\": 1.0, \"16\": 1.0, \"14\": 1.0, \"10\": 1.0, \"9\": 1.0, \"8\": 1.0, \"7\": 1.0, \"6\": 1.0, \"3\": 1.0, \"2\": 1.0, \"17\": 1.0, \"30\": 1.0, \"31\": NaN}},\n",
       "                { tooltips: function (rubric, metric, score) { return `${(score*100).toFixed(0)}%<br />${metrics[metric]}` } }\n",
       "            )\n",
       "        })\n",
       "        </script>\n",
       "    "
      ],
      "text/plain": [
       "<IPython.core.display.HTML object>"
      ]
     },
     "metadata": {},
     "output_type": "display_data"
    }
   ],
   "source": [
    "render_insignia(\n",
    "    { 0: df_answers['value'].to_dict() },\n",
    "    df_answers['name'].to_dict()\n",
    ")"
   ]
  },
  {
   "cell_type": "markdown",
   "metadata": {},
   "source": [
    "## Cleanup\n",
    "\n",
    "No need to run this locally, but useful for appyter."
   ]
  },
  {
   "cell_type": "code",
   "execution_count": null,
   "metadata": {},
   "outputs": [],
   "source": [
    "import shutil\n",
    "shutil.rmtree(directory)"
   ]
  }
 ],
 "metadata": {
  "appyter": {
   "info": {
    "$schema": "https://raw.githubusercontent.com/MaayanLab/appyter-catalog/main/schema/appyter-validator.json",
    "appyter": {
     "extras": [
      "hide-code",
      "toc",
      "toggle-code"
     ],
     "file": "C2M2Assessment.ipynb",
     "profile": "biojupies"
    },
    "authors": [
     {
      "email": "danieljbclarkemssm@gmail.com",
      "name": "Daniel J. B. Clarke"
     },
     {
      "email": "achar@ucdavis.edu",
      "name": "Amanda Charbonneau"
     }
    ],
    "description": "This Appyter asserts C2M2 FAIR Rubric on a C2M2 Datapackage",
    "image": "screenshot.png",
    "license": "CC-BY-NC-SA-4.0",
    "name": "CFDE-C2M2-FAIR-Datapackage-Assessment",
    "public": true,
    "tags": [
     "FAIR"
    ],
    "title": "CFDE C2M2 FAIR Datapackage Assessment",
    "url": "https://github.com/MaayanLab/appyter-catalog",
    "version": "0.1.7"
   },
   "nbconstruct": {
    "created": "2022-04-19T17:27:33.182879+00:00",
    "data": {
     "file": "https://appyters.maayanlab.cloud/CFDE-C2M2-FAIR-Datapackage-Assessment/static/example.zip#example.zip",
     "primary": null,
     "skip_landing": "yes"
    },
    "filename": "C2M2Assessment.ipynb",
    "files": {
     "example.zip": "https://appyters.maayanlab.cloud/CFDE-C2M2-FAIR-Datapackage-Assessment/static/example.zip"
    },
    "version": "0.18.7"
   },
   "nbexecute": {
    "started": "2022-04-19T17:27:36.560236+00:00",
    "version": "0.18.7"
   }
  },
  "interpreter": {
   "hash": "767d51c1340bd893661ea55ea3124f6de3c7a262a8b4abca0554b478b1e2ff90"
  },
  "kernelspec": {
   "display_name": "cfde_venv",
   "language": "python",
   "name": "cfde_venv"
  },
  "language_info": {
   "codemirror_mode": {
    "name": "ipython",
    "version": 3
   },
   "file_extension": ".py",
   "mimetype": "text/x-python",
   "name": "python",
   "nbconvert_exporter": "python",
   "pygments_lexer": "ipython3",
   "version": "3.8.12"
  }
 },
 "nbformat": 4,
 "nbformat_minor": 2
}
